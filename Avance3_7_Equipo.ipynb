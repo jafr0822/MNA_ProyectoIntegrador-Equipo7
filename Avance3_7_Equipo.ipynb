{
  "nbformat": 4,
  "nbformat_minor": 0,
  "metadata": {
    "colab": {
      "provenance": [],
      "authorship_tag": "ABX9TyNM9WzshTNmNyTYLxVzEcQe",
      "include_colab_link": true
    },
    "kernelspec": {
      "name": "python3",
      "display_name": "Python 3"
    },
    "language_info": {
      "name": "python"
    }
  },
  "cells": [
    {
      "cell_type": "markdown",
      "metadata": {
        "id": "view-in-github",
        "colab_type": "text"
      },
      "source": [
        "<a href=\"https://colab.research.google.com/github/jafr0822/MNA_ProyectoIntegrador-Equipo7/blob/main/Avance3_7_Equipo.ipynb\" target=\"_parent\"><img src=\"https://colab.research.google.com/assets/colab-badge.svg\" alt=\"Open In Colab\"/></a>"
      ]
    },
    {
      "cell_type": "markdown",
      "source": [
        "# Proyecto Integrador\n",
        "\n",
        "\n",
        "## Tecnológico de Monterrey\n",
        "### Maestría en Inteligencia Artificial Aplicada (MNA)\n",
        "#### Avance 3\n",
        "#### Equipo 7\n",
        "\n",
        "\n",
        "* Jorge Arturo Federico Rivera – A01250724\n",
        "* Marco Antonio Vázquez Morales – A01793704\n",
        "* Alejandro Jesús Vázquez Navarro - A01793146\n",
        "\n",
        "### Baseline\n",
        "\n",
        "Proyecto:\n",
        "\n",
        "*Modelo clasificador de multimorbilidad maternal y predictor de desenlaces perinatales a partir de datos clínicos metabólicos, genéticos y nutricionales de mujeres mexicanas*\n",
        "\n",
        "19 de mayo de 2024"
      ],
      "metadata": {
        "id": "uBhkjqh4iQMq"
      }
    },
    {
      "cell_type": "markdown",
      "source": [
        "# 1. Algoritmo\n",
        "\n",
        "El problema escogido será tratad como aprendizaje supervisado. Nos enfocaremos en la predicción de una variable dependiente \"EscalaRiesgo\" que contendrá 3 valores:\n",
        "- A. Para alto riesgo (la presencia de 3 o 4 factores multimorbilidad)\n",
        "- B. Para medio riesgo (presencia de 1 o 2 factores multimorbilidad)\n",
        "- C. Para riesgo nulo. (sin la presencia de factores de multimorbilidad)\n",
        "\n",
        "En esta entrega utilizaremos un algoritmo de random forest por las siguientes causas:\n",
        "- **Precisión**. Los árboles de bosque aleatorios proporcionan buenos resultados cuando tenemos datos con muchas características.\n",
        "- **Manejo del sobreajuste.** Mediante el promedio de los resultados de los árboles, los bosques aleatorios reducen el riesgo de sobreajuste en comparación con un único árbol de decisión.\n",
        "- **Heterogeneidad.** Funcionan muy buen con datos tanto numéricos como categóricos\n",
        "- Son mucho menos sensibles a datos ruidosos.\n",
        "- **Generalización.** Dan muy buenos resultados en térrminos de generalización para nuevas observaciones\n"
      ],
      "metadata": {
        "id": "M22QNkqYibb6"
      }
    }
  ]
}