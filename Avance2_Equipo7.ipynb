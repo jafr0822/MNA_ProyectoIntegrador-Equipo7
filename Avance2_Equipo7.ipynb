{
  "nbformat": 4,
  "nbformat_minor": 0,
  "metadata": {
    "colab": {
      "provenance": [],
      "authorship_tag": "ABX9TyPPXdJxBCHjjdPl0u1esNoB",
      "include_colab_link": true
    },
    "kernelspec": {
      "name": "python3",
      "display_name": "Python 3"
    },
    "language_info": {
      "name": "python"
    }
  },
  "cells": [
    {
      "cell_type": "markdown",
      "metadata": {
        "id": "view-in-github",
        "colab_type": "text"
      },
      "source": [
        "<a href=\"https://colab.research.google.com/github/jafr0822/MNA_ProyectoIntegrador-Equipo7/blob/main/Avance2_Equipo7.ipynb\" target=\"_parent\"><img src=\"https://colab.research.google.com/assets/colab-badge.svg\" alt=\"Open In Colab\"/></a>"
      ]
    },
    {
      "cell_type": "markdown",
      "source": [
        "# Proyecto Integrador\n",
        "\n",
        "\n",
        "## Tecnológico de Monterrey\n",
        "### Maestría en Inteligencia Artificial Aplicada (MNA)\n",
        "#### Avance 2\n",
        "#### Equipo 7\n",
        "\n",
        "\n",
        "* Jorge Arturo Federico Rivera – A01250724\n",
        "* Marco Antonio Vázquez Morales – A01793704\n",
        "* Alejandro Jesús Vázquez Navarro - A01793146\n",
        "\n",
        "### Ingeniería de Características\n",
        "\n",
        "Proyecto:\n",
        "\n",
        "*Modelo clasificador de multimorbilidad maternal y predictor de desenlaces perinatales a partir de datos clínicos metabólicos, genéticos y nutricionales de mujeres mexicanas*\n",
        "\n",
        "12 de mayo de 2024"
      ],
      "metadata": {
        "id": "Srr0Jr_6we0K"
      }
    },
    {
      "cell_type": "markdown",
      "source": [
        "# Construcción\n",
        "\n",
        "Tomaremos el dataframe `dfPreparado` que preparamos en la **Fase i**, ahora aplicaremos la construcción de la variable dependiente y la inclusión de nuevas características. Por ejemplo, la variable `prematurez` se basará en el número de semanas de la variable `sdg_parto`.\n",
        "\n",
        "A continuación las reglas de creación de características:\n",
        "\n",
        "- **IndexMorbilidad** [variable dependiente] Suma de '1' en las 8 características indicadas por el cuerpo médico.\n",
        "- **Prematurez** [variable nueva] En función al valor de la variable `sdg_parto` se determinará si el valor es **1** o **0**. La regla es: Si el valor es menor a 36, entonces será prematuro (1), caso contrario el valor será no prematura (0).\n",
        "- **Clúster asociado** Después de correr un algoritmo de clustering, agregaremos al dataframe _dfPreparado_"
      ],
      "metadata": {
        "id": "qZRASG5sxPY9"
      }
    },
    {
      "cell_type": "markdown",
      "source": [
        "# Normalización"
      ],
      "metadata": {
        "id": "2MVZxuoqxTAB"
      }
    },
    {
      "cell_type": "markdown",
      "source": [
        "# Selección / Extracción"
      ],
      "metadata": {
        "id": "4KpYXa7bxU7l"
      }
    },
    {
      "cell_type": "markdown",
      "source": [
        "# Conclusiones"
      ],
      "metadata": {
        "id": "RwCe68hBxdHm"
      }
    }
  ]
}