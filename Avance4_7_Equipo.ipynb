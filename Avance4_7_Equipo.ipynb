{
  "cells": [
    {
      "cell_type": "markdown",
      "metadata": {
        "id": "view-in-github",
        "colab_type": "text"
      },
      "source": [
        "<a href=\"https://colab.research.google.com/github/jafr0822/MNA_ProyectoIntegrador-Equipo7/blob/main/Avance4_7_Equipo.ipynb\" target=\"_parent\"><img src=\"https://colab.research.google.com/assets/colab-badge.svg\" alt=\"Open In Colab\"/></a>"
      ]
    },
    {
      "cell_type": "markdown",
      "source": [
        "# **Proyecto Integrador**\n",
        "\n",
        "\n",
        "## **Tecnológico de Monterrey**\n",
        "### **Maestría en Inteligencia Artificial Aplicada (MNA)**\n",
        "#### Avance 4\n",
        "#### Equipo 7\n",
        "\n",
        "\n",
        "* Jorge Arturo Federico Rivera – A01250724\n",
        "* Marco Antonio Vázquez Morales – A01793704\n",
        "* Alejandro Jesús Vázquez Navarro - A01793146"
      ],
      "metadata": {
        "id": "-jioLoDCGmvb"
      }
    },
    {
      "cell_type": "markdown",
      "source": [
        "# Índice"
      ],
      "metadata": {
        "id": "H2ec6ClBSlp5"
      }
    },
    {
      "cell_type": "markdown",
      "source": [
        "## I    Introducción\n",
        "## II   EDA\n",
        "\n",
        "1.   Estructura de datos\n",
        "2.   Funciones Ad-hoc\n",
        "3.   Dendograma\n",
        "4.   Densidad\n",
        "5.   Preprocesamiento\n",
        "6.   Imputación de datos\n",
        "7.   Imputación para variables\n",
        "8.   Evaluación de Porosidad\n",
        "9.   Análisis Bivariado\n",
        "10.  Detección de Outliers\n",
        "11.  Selección de variable dependiente\n",
        "\n",
        "## III  Ingenieria de Características\n",
        "\n",
        "1.   Construcción\n",
        "2.   Normalización\n",
        "3.   Selección y Extracción\n",
        "\n",
        "## IV   Baseline\n",
        "\n",
        "1.   Algoritmo\n",
        "2.   Características importantes\n",
        "3.   Sub y Sobreajuste\n",
        "4.   Métricas\n",
        "5.   Desempeño\n",
        "\n",
        "## V    Modelos Alternativos\n",
        "\n",
        "1. Preparación\n",
        "2. Comparativa\n",
        "3. Ajuste Fino"
      ],
      "metadata": {
        "id": "CfSuRoYTGvGO"
      }
    },
    {
      "cell_type": "markdown",
      "source": [
        "### Este trabajo tiene como finalidad crear un modelo que pueda predecir el riesgo de sufrir alguna afectación a la mujer o su feto en el proceso de embarazo, tomando como base los datos clínicos, metabólicos, genéticos y nutricionales. Se trata de encontrar una variable dependiente que permita detectar las emfermedades a tiempo para poder reducir el impacto negativo que puediera tener en uno o ambos casos.\n",
        "\n",
        "### En primer termino se enlistan las variabales que se van a utilizar, en esta étapa identificamos 99 en donde las que estan en color naranja representan las posibles variables dependendientes, las que estan en azul son las variables explicativas, las que estan en color rojo serían las variables de salida.\n",
        "\n",
        "### Posteriormente realizamos una revisión a los datos, luego quitamos las columnas que no serán útiles para después realizar un análisis exploratorio de los datos utilizando ydata-profilling y Sweetviz.\n",
        "\n",
        "### Debido al número extenso de variables (96) generamos reportes estáticos en html para su mejor visualización.\n",
        "\n",
        "### Estos pueden consultarse en estas ligas:\n",
        "- [Reporte mínimo exploratorio](https://github.com/jafr0822/MNA_ProyectoIntegrador-Equipo7/blob/8a9e4300831ede90791258bd5b58acd44c456537/data/reports/profile1_min_report.html)\n",
        "\n",
        "- [Reporte completo exploratorio](https://github.com/jafr0822/MNA_ProyectoIntegrador-Equipo7/blob/8a9e4300831ede90791258bd5b58acd44c456537/data/reports/profile1_exp_report.html)\n",
        "\n",
        "- [Reporte realizado con sweetViz](https://github.com/jafr0822/MNA_ProyectoIntegrador-Equipo7/blob/8a9e4300831ede90791258bd5b58acd44c456537/data/reports/sv_report1.html)"
      ],
      "metadata": {
        "id": "7WMpmM2nRnjB"
      }
    },
    {
      "cell_type": "markdown",
      "source": [
        "# II EDA"
      ],
      "metadata": {
        "id": "MLf9uTxEUIpm"
      }
    },
    {
      "cell_type": "markdown",
      "source": [
        "## Estructura de datos\n",
        "\n",
        "Despúes de una revisión con la parte médica, definimos las siguientes variables como la estrucutura base para la generación de los modelos predicitivos.\n",
        "A continuación se listan y describen las variables que serán utilizadas para este proyecto.\n",
        "\n",
        "Las variables en rojo serán consolidadas para la creación de la variable dependiente llamada `IndexMorbilidad`\n",
        "\n",
        "La variable dependiente candidata (en marrón) era `sdg_parto`, se descartó debido a que solo está presente en el 50.5%  de las observaciones"
      ],
      "metadata": {
        "id": "e44AGIWKSX5_"
      }
    },
    {
      "cell_type": "markdown",
      "source": [
        "## Instalamos librerias para colab"
      ],
      "metadata": {
        "id": "Uj-JMp_IVQET"
      }
    },
    {
      "cell_type": "code",
      "source": [
        "#%pip install matplotlib-venn missingno sweetviz ydata-profiling\n",
        "#%pip install --upgrade Pillow\n",
        "#%pip install --upgrade scikit-learn\n",
        "#%pip install git+https://github.com/MIDASverse/MIDASpy.git\n",
        "\n",
        "import importlib\n",
        "\n",
        "# List of libraries to install\n",
        "libraries_to_install = [\n",
        "    (\"matplotlib_venn\", \"matplotlib_venn\"),\n",
        "    (\"missingno\", \"missingno\"),\n",
        "    (\"sweetviz\", \"sweetviz\"),\n",
        "    (\"ydata_profiling\", \"pandas_profiling\"),\n",
        "    (\"Pillow\", \"PIL\"),\n",
        "    (\"scikit-learn\", \"sklearn\"),\n",
        "]\n",
        "\n",
        "for package, module in libraries_to_install:\n",
        "    try:\n",
        "        importlib.import_module(module)\n",
        "        print(f\"{module} is already installed.\")\n",
        "    except ImportError:\n",
        "        print(f\"Installing {module}...\")\n",
        "        %pip install {package}\n",
        "\n",
        "\n",
        "import pandas as pd\n",
        "import sweetviz as sv\n",
        "import numpy as np\n",
        "from ydata_profiling import ProfileReport\n",
        "import seaborn as sns\n",
        "\n",
        "# CREATE REPORTS\n",
        "_BLN_REPORTS = False\n",
        "\n",
        "\n",
        "\n",
        "import pandas as pd\n",
        "import numpy as np\n",
        "from sklearn.model_selection import train_test_split, cross_val_score, StratifiedKFold, learning_curve\n",
        "\n",
        "from sklearn.ensemble import RandomForestClassifier\n",
        "from sklearn.metrics import classification_report, confusion_matrix\n",
        "import matplotlib.pyplot as plt\n",
        "import seaborn as sns"
      ],
      "metadata": {
        "id": "lcItRUTTVMdV"
      },
      "execution_count": null,
      "outputs": []
    },
    {
      "cell_type": "code",
      "source": [
        "# Creamos una función para calcular y graficar la porosidad del dataframe\n",
        "def getPorosidad(df):\n",
        "\n",
        "  porosidad = df.isnull().sum() / len(df)\n",
        "\n",
        "  porosidad_df = pd.DataFrame({\n",
        "      'Caracteristica': porosidad.index,\n",
        "      'Porosidad': porosidad.values\n",
        "  })\n",
        "\n",
        "  # Ordenar el DataFrame por porosidad de mayor a menor\n",
        "  porosidad_df = porosidad_df.sort_values(by='Porosidad', ascending=True)\n",
        "  # Crear la gráfica de barras\n",
        "  plt.figure(figsize=(6, 14))\n",
        "  variables_interes = ['sdg_parto', 'preeclampsia', 'polihidramnios', 'hidramnios', 'infeccion_gesta', 'malformaciones_rn', 'aborto_rn', 'obito_rn', 'mnt_rn']\n",
        "\n",
        "  colors = ['skyblue' if x not in variables_interes else 'orange' for x in porosidad_df['Caracteristica']]\n",
        "\n",
        "  bars = plt.barh(porosidad_df['Caracteristica'], porosidad_df['Porosidad'], color=colors)  # Use barh for horizontal bars\n",
        "\n",
        "  # Add value at the end of each bar\n",
        "  for bar, value in zip(bars, porosidad_df['Porosidad']):\n",
        "      plt.text(bar.get_width() + 0.01, bar.get_y() + bar.get_height()/2, f\"{value:.2%}\", va='center', ha='left')\n",
        "\n",
        "  plt.xlabel('% Porosidad')\n",
        "  plt.ylabel('Caracteristica')\n",
        "  plt.title('Porosidad por Columna')\n",
        "  plt.xticks(rotation=90, ha='right')\n",
        "  plt.tight_layout()\n",
        "  plt.show()\n",
        "\n",
        "def getPorosidadQuintiles(df):\n",
        "\n",
        "    porosidad = df.isnull().sum() / len(df)\n",
        "    porosidad_df = pd.DataFrame({\n",
        "        'Caracteristica': porosidad.index,\n",
        "        'Porosidad': porosidad.values\n",
        "    })\n",
        "\n",
        "    # Ordenar el DataFrame por porosidad de mayor a menor\n",
        "    porosidad_df = porosidad_df.sort_values(by='Porosidad', ascending=True)\n",
        "\n",
        "    # Crear la gráfica de barras\n",
        "    plt.figure(figsize=(6, 14))\n",
        "\n",
        "    variables_interes = ['sdg_parto', 'preeclampsia', 'polihidramnios', 'hidramnios', 'infeccion_gesta', 'malformaciones_rn', 'aborto_rn', 'obito_rn', 'mnt_rn']\n",
        "    colors = ['skyblue' if x not in variables_interes else 'orange' for x in porosidad_df['Caracteristica']]\n",
        "\n",
        "    bars = plt.barh(porosidad_df['Caracteristica'], porosidad_df['Porosidad'], color=colors)  # Use barh for horizontal bars\n",
        "\n",
        "    # Add value at the end of each bar\n",
        "    for bar, value in zip(bars, porosidad_df['Porosidad']):\n",
        "        plt.text(bar.get_width() + 0.01, bar.get_y() + bar.get_height()/2, f\"{value:.2%}\", va='center', ha='left')\n",
        "\n",
        "    # Añadir marcadores para los quintiles\n",
        "    quintiles = porosidad_df['Porosidad'].quantile([0.2, 0.4, 0.6, 0.8])\n",
        "    for quintile in quintiles:\n",
        "        plt.axvline(x=quintile, color='red', linestyle='--', alpha=0.5)\n",
        "\n",
        "    plt.xlabel('% Porosidad')\n",
        "    plt.ylabel('Caracteristica')\n",
        "    plt.title('Porosidad por Columna')\n",
        "    plt.xticks(rotation=90, ha='right')\n",
        "    plt.tight_layout()\n",
        "    plt.show()\n",
        "\n",
        "#####################################################\n",
        "\n",
        "def getVariablesUltimoQuintil(df):\n",
        "    porosidad = df.isnull().sum() / len(df)\n",
        "    porosidad_df = pd.DataFrame({\n",
        "        'Caracteristica': porosidad.index,\n",
        "        'Porosidad': porosidad.values\n",
        "    })\n",
        "\n",
        "    # Ordenar el DataFrame por porosidad de mayor a menor\n",
        "    porosidad_df = porosidad_df.sort_values(by='Porosidad', ascending=True)\n",
        "\n",
        "    # Calcular los quintiles de la porosidad\n",
        "    quintiles = porosidad_df['Porosidad'].quantile([0.2, 0.4, 0.6, 0.8])\n",
        "\n",
        "    # Filtrar características que están en el último quintil\n",
        "    ult_quintil = porosidad_df[porosidad_df['Porosidad'] > quintiles[0.8]]\n",
        "\n",
        "    return ult_quintil['Caracteristica'].tolist()\n",
        "\n",
        "########################################################\n",
        "\n",
        "# Creamos una función para separar las variables categóricas, numéricas\n",
        "def extract_column_types(df):\n",
        "    numeric_cols = []\n",
        "    string_cols = []\n",
        "\n",
        "    for col in df.columns:\n",
        "        if df[col].dtype in ['int64', 'float64']:\n",
        "            numeric_cols.append(col)\n",
        "        elif df[col].dtype == 'object':\n",
        "            string_cols.append(col)\n",
        "\n",
        "    return numeric_cols, string_cols\n",
        "\n",
        "\n",
        "########################################################\n",
        "\n",
        "def plot_distribution(df):\n",
        "    # Extraer columnas numéricas\n",
        "    numeric_cols = df.select_dtypes(include=['number']).columns\n",
        "\n",
        "    # Calcular el número de filas y columnas para el mosaico\n",
        "    num_cols = len(numeric_cols)\n",
        "    num_rows = (num_cols + 1) // 2  # Redondeo hacia arriba\n",
        "\n",
        "    # Crear una cuadrícula de subgráficos\n",
        "    fig, axes = plt.subplots(num_rows, 2, figsize=(12, num_rows * 6))\n",
        "    axes = axes.flatten()  # Convertir la matriz de ejes en una lista plana\n",
        "\n",
        "    # Iterar sobre cada columna numérica y crear una gráfica de distribución\n",
        "    for i, col in enumerate(numeric_cols):\n",
        "        sns.histplot(df[col], kde=True, color='skyblue', ax=axes[i])\n",
        "        axes[i].set_title(f'Distribución de {col}')\n",
        "        axes[i].set_xlabel(col)\n",
        "        axes[i].set_ylabel('Frecuencia')\n",
        "\n",
        "    # Ocultar ejes sobrantes\n",
        "    for j in range(i+1, len(axes)):\n",
        "        axes[j].axis('off')\n",
        "\n",
        "    plt.tight_layout()\n",
        "    plt.show()\n",
        "\n",
        "#######################################\n",
        "\n",
        "def get_column_types(df):\n",
        "    numeric_cols = df.select_dtypes(include=[np.number]).columns.tolist()\n",
        "    string_cols = df.select_dtypes(include=[object]).columns.tolist()\n",
        "    #binary_cols = [col for col in df.columns if col not in numeric_cols and col not in string_cols]\n",
        "    return numeric_cols, string_cols\n",
        "\n",
        "#######################################\n",
        "\n",
        "def identify_binary(data):\n",
        "\n",
        "  binary_cols = []\n",
        "  for col in data.columns:\n",
        "    unique_values = data[col].dropna().unique()\n",
        "    #print(f'Col name {col} unique values {unique_values}')\n",
        "\n",
        "    if len(unique_values) == 3 and (set(unique_values) == {\"\", 0.0, 1.0}):  # Check for 0, 1 or \"\", 1\n",
        "\n",
        "      binary_cols.append(col)\n",
        "  return binary_cols\n",
        "\n",
        "\n",
        "######################################\n",
        "\n",
        "def detect_outliers_iqr(df):\n",
        "    outliers = []\n",
        "    for col in df.columns:\n",
        "        Q1 = df[col].quantile(0.25)\n",
        "        Q3 = df[col].quantile(0.75)\n",
        "        IQR = Q3 - Q1\n",
        "        lower_bound = Q1 - 1.5 * IQR\n",
        "        upper_bound = Q3 + 1.5 * IQR\n",
        "        col_outliers = df[(df[col] < lower_bound) | (df[col] > upper_bound)].index\n",
        "        outliers.extend(col_outliers)\n",
        "    return list(set(outliers))"
      ],
      "metadata": {
        "id": "HCu2HK4sWrlF"
      },
      "execution_count": null,
      "outputs": []
    },
    {
      "cell_type": "markdown",
      "source": [
        "## Lectura de datos desde excel"
      ],
      "metadata": {
        "id": "8JbQ5JB6XJa_"
      }
    },
    {
      "cell_type": "code",
      "source": [
        "# Se agrega esta configuración para mostrar todas las variables en el método describe.().T\n",
        "pd.options.display.max_columns = None\n",
        "\n",
        "\n",
        "cols_to_include = [\n",
        "    \"id_gdg\",\n",
        "\"biopsias\",\n",
        "\"estado\",\n",
        "\"edad_dx\",\n",
        "\"imc_h\",\n",
        "\"obs_h\",\n",
        "\"peso_1\",\n",
        "\"peso_2\",\n",
        "\"peso_3\",\n",
        "\"sdg_dx\",\n",
        "\"gluc_dx_0\",\n",
        "\"gluc_dx_60\",\n",
        "\"gluc_dx_120\",\n",
        "\"gluc_dx_180\",\n",
        "\"dx_inicio\",\n",
        "\"auc\",\n",
        "\"ichos_pregesta\",\n",
        "\"hta_pregesta\",\n",
        "\"sop\",\n",
        "\"hipotiroidismo\",\n",
        "\"hipertiroidismo\",\n",
        "\"consumo_alcohol\",\n",
        "\"consumo_tabaco\",\n",
        "\"anticonceptivo\",\n",
        "\"ah_dm\",\n",
        "\"ah_hta\",\n",
        "\"ah_ob\",\n",
        "\"ah_dg\",\n",
        "\"no_gestas\",\n",
        "\"ant_dg\",\n",
        "\"ant_aborto\",\n",
        "\"ant_obito\",\n",
        "\"ant_mnt\",\n",
        "\"ant_malformado\",\n",
        "\"ant_macrosomico\",\n",
        "\"cesarea_iter\",\n",
        "\"ema\",\n",
        "\"alta_paridad\",\n",
        "\"estatura_baja\",\n",
        "\"pgr\",\n",
        "\"infeccion_pregesta\",\n",
        "\"embarazo_multiple\",\n",
        "\"preeclampsia\",\n",
        "\"polihidramnios\",\n",
        "\"hidramnios\",\n",
        "\"infeccion_gesta\",\n",
        "\"ac_fol_pregesta\",\n",
        "\"ac_fol_gesta\",\n",
        "\"sdg_fol\",\n",
        "\"trim_fol\",\n",
        "\"ac_fol_dosis_mg\",\n",
        "\"modo_parto\",\n",
        "\"sdg_parto\",\n",
        "\"termino_rn\",\n",
        "\"macrosomia_rn\",\n",
        "\"malformaciones_rn\",\n",
        "\"aborto_rn\",\n",
        "\"obito_rn\",\n",
        "\"mnt_rn\",\n",
        "\"ins_dx\",\n",
        "\"gluc_dx\",\n",
        "\"crea_dx\",\n",
        "\"urico_dx\",\n",
        "\"tg_dx\",\n",
        "\"ct_dx\",\n",
        "\"hdl_dx\",\n",
        "\"ldl_dx\",\n",
        "\"apob_dx\",\n",
        "\"lep_dx\",\n",
        "\"adipo_dx\",\n",
        "\"pcr_dx\",\n",
        "\"origen_px\",\n",
        "\"tiene_pareja\",\n",
        "\"paciente_trabaja\",\n",
        "\"escolaridad\",\n",
        "\"puntos_ses\",\n",
        "\"nivel_ses\",\n",
        "\"trimestre_ev1\",\n",
        "\"AcFolico_supl\",\n",
        "#\"AcFolico_marca\", # No tiene valor en este estudio\n",
        "\"AcFsup_dosis_mg\",\n",
        "\"supl_preconcep\",\n",
        "\"supl_1erTrim\",\n",
        "\"Multi0_acfol1\",\n",
        "\"iniciosupl_sdg\",\n",
        "\"AcFolico_papa\",\n",
        "\"Ins_1av\",\n",
        "\"Gluc_1av\",\n",
        "\"Col_1av\",\n",
        "\"Tg_1av\",\n",
        "\"LDL_1av\",\n",
        "\"HDL_1av\",\n",
        "\"CMB_1av\",\n",
        "\"PCT_1av\",\n",
        "\"CMB_2av\",\n",
        "\"PCT_2av\"\n",
        "\n",
        "\n",
        "]\n",
        "\n",
        "excel_file_1 = \"data/base_multimorb_fase1_fase_2_clinicas_originales.xlsx\"\n",
        "\n",
        "df1_sheet1 = pd.read_excel(\n",
        "    excel_file_1,\n",
        "    sheet_name=0,\n",
        "    usecols=cols_to_include,\n",
        ")\n",
        "\n",
        "df1_sheet2 = pd.read_excel(\n",
        "    excel_file_1,\n",
        "    sheet_name=1,\n",
        "    usecols=cols_to_include,\n",
        ")\n",
        "\n",
        "df1_sheets = [\n",
        "    df1_sheet1,\n",
        "    df1_sheet2\n",
        "]\n",
        "\n",
        "df1 = pd.concat(df1_sheets)\n",
        "df1.to_csv(\"primera_Salida.csv\")\n",
        "#df1.describe()\n",
        "\n",
        "df1.describe(include=\"all\").T\n",
        "\n",
        "dfIds = df1[[\"id_gdg\", \"origen_px\"]]"
      ],
      "metadata": {
        "id": "Uil027DwXWrM"
      },
      "execution_count": null,
      "outputs": []
    },
    {
      "cell_type": "code",
      "source": [
        "df1.head(10)"
      ],
      "metadata": {
        "id": "nQ-fJOqWXX8X"
      },
      "execution_count": null,
      "outputs": []
    },
    {
      "cell_type": "code",
      "source": [
        "df1.tail(10)"
      ],
      "metadata": {
        "id": "CA80zHd9XcGN"
      },
      "execution_count": null,
      "outputs": []
    },
    {
      "cell_type": "markdown",
      "source": [
        "## ydata-profiling"
      ],
      "metadata": {
        "id": "3JBQIO1zXgRa"
      }
    },
    {
      "cell_type": "markdown",
      "source": [
        "### Generación de análisis univariado y bi/multivariado"
      ],
      "metadata": {
        "id": "1PFDu4pxXq-F"
      }
    },
    {
      "cell_type": "code",
      "source": [
        "if _BLN_REPORTS==True:\n",
        "  profile1 = ProfileReport(\n",
        "      df1,\n",
        "      title=\"Minimal Profiling Report for df1\",\n",
        "      # explorative=True,\n",
        "      minimal=True,\n",
        "  )\n",
        "  profile1.to_file(\"data/reports/profile1_min_report.html\")"
      ],
      "metadata": {
        "id": "xldFjkb0ZOu1"
      },
      "execution_count": null,
      "outputs": []
    },
    {
      "cell_type": "code",
      "source": [
        "if _BLN_REPORTS==True:\n",
        "  profile1.to_notebook_iframe()"
      ],
      "metadata": {
        "id": "mp4m1fvVZQlP"
      },
      "execution_count": null,
      "outputs": []
    },
    {
      "cell_type": "markdown",
      "source": [
        "### Debido al tamaño del reporte, se prefirió generar un archivo html llamado  profile1_exp_report.html que está alojado en el repositorio o puede ser consultado en la siguiente liga [EDA_Extensivo](/content/data/reports/profile1_min_report.html):"
      ],
      "metadata": {
        "id": "3LnBJW19ZZrW"
      }
    },
    {
      "cell_type": "code",
      "source": [
        "if _BLN_REPORTS==True:\n",
        "  profile1_exp = ProfileReport(\n",
        "      df1,\n",
        "      title=\"Explorative Profiling Report for df1\",\n",
        "      explorative=True,\n",
        "      # minimal=True,\n",
        "  )\n",
        "  profile1_exp.to_file(\"data/reports/profile1_min_report.html\")"
      ],
      "metadata": {
        "id": "7sLHZV3jZc7u"
      },
      "execution_count": null,
      "outputs": []
    },
    {
      "cell_type": "markdown",
      "source": [
        "### sweetviz"
      ],
      "metadata": {
        "id": "sUYOr_HEZhBH"
      }
    },
    {
      "cell_type": "code",
      "source": [
        "# Missingness Map\n",
        "\n",
        "import missingno as msno\n",
        "import matplotlib.pyplot as plt\n",
        "\n",
        "fig, ax = plt.subplots(figsize=(40, 40))  # Adjust size as needed\n",
        "\n",
        "# Create the heatmap\n",
        "msno.heatmap(df1, ax=ax)\n",
        "\n",
        "# Reduce font size of tick labels (optional)\n",
        "ax.tick_params(axis='both', which='major', labelsize=10)  # Adjust size as needed\n",
        "\n",
        "plt.show()"
      ],
      "metadata": {
        "id": "hp69_W7yZl9O"
      },
      "execution_count": null,
      "outputs": []
    },
    {
      "cell_type": "markdown",
      "source": [
        "Esta gráfica nos permite identificar zonas de alta correlación con presencia y ausencia de variables.\n",
        "\n",
        "Por ejemplo, la zona de variables ac_fol_pregesta, ac_fol_gesta, sdg_fol, trim_fol y ac_fol_dosis_mg tiene una ligera correlación positiva en presencia de biopsias.\n",
        "\n",
        "Misma conducta podemos observarla con las variables trimestre_ev1, acFolico_supl, AcFolico_Marca, AcFsup_dosis_mg, supl_preconcep, supl_1erTrim, Multi0_acfol1, inicisupl_sdg, AcFolico_papa, Gluc_1av, Col_1av, Tg_1av, LDL_1av, HDL_1av, CMB_1av, PCT_1av.\n",
        "\n",
        "También encontramos correlaciones positivas en presencia de datos con las siguientes pares de variables:\n",
        "\n",
        "[trimestre_ev1, acFolico_supl, AcFolico_Marca, AcFsup_dosis_mg, supl_preconcep, supl_1erTrim, Multi0_acfol1, inicisupl_sdg, AcFolico_papa, Gluc_1av, Col_1av, Tg_1av, LDL_1av, HDL_1av, CMB_1av, PCT_1av]\n",
        "\n",
        "<center>vs</center>\n",
        "\n",
        "[modo_parto, sdg_parto, termino_rn (candidata a variable dependiente), macromosima_rn (candidata a variable dependiente), malformaciones_rn, aborto_rn, obito_rn, mnt_rn, ins_dx, crea_dx, urico_dx, aprob_dx, lep_dx, pcr_dx]\n",
        "\n",
        "Estos últimos siendo parte del conjunto de marcadores bioquímicos.\n"
      ],
      "metadata": {
        "id": "gHVnw2JcZrx3"
      }
    },
    {
      "cell_type": "markdown",
      "source": [
        "### Dendrograma\n",
        "\n",
        "Este gráfico proporciona información en forma de árbol generado mediante agrupación jerárquica y agrupa columnas que tienen fuertes correlaciones en nulidad.\n",
        "\n",
        "Si varias columnas se agrupan en el nivel cero, esto significa que la presencia de nulos en una de esas columnas está directamente relacionada con la presencia o ausencia de nulos en las demás columnas. Cuanto más separadas estén las columnas en el árbol, menos probable será que los valores nulos estén correlacionados entre las columnas.\n",
        "\n"
      ],
      "metadata": {
        "id": "g7JBKUWtaTmb"
      }
    },
    {
      "cell_type": "code",
      "source": [
        "fig, ax = plt.subplots(figsize=(40, 40))\n",
        "\n",
        "msno.dendrogram(df1, ax=ax)\n",
        "\n",
        "ax.tick_params(axis='both', which='major', labelsize=10)\n",
        "plt.show()"
      ],
      "metadata": {
        "id": "n1iWbSsgaZrn"
      },
      "execution_count": null,
      "outputs": []
    },
    {
      "cell_type": "markdown",
      "source": [
        "Como se mencionó, este gráfico nos permite entender diferentes grupos de columnas que guardan relación con su presencia o no de datos. Por ejemplo, el grupo de preeclampsia, polihidramnios e hidramnios están fuertemente correlacionados en nulidad. La presencia de una variable en este grupo indica que existe una alta probabilidad de la existencia de otra.\n",
        "\n",
        "Esto es importante porque gracias a esta gráfica podemos determinar grupos de variables y determinar qué técnica de imputación de datos podemos realizar. Es decir, todo lo que esté relacionado con la glucosa, puede ser tratado con la misma técnica de imputación.\n",
        "\n",
        "Inclusive podemos identificar clusters de columnas a nivel cero como obs_h, talla, estatura_baja, ev_1ertrim, ev_dieta, edad_dx y ema que indican tener una gran densidad de dato."
      ],
      "metadata": {
        "id": "MBoN37e2agR3"
      }
    },
    {
      "cell_type": "markdown",
      "source": [
        "### Densidad\n",
        "\n",
        "Además de los análisis anteriores, evaluamos el nivel de densidad de las características. Es decir:\n",
        "\n",
        "$$ Porosidad = TotalCeldasVacias / TotalFilas\n",
        "$$\n",
        "​\n",
        "\n",
        "Esto se calcula a continuación:"
      ],
      "metadata": {
        "id": "NiPoHpONal4L"
      }
    },
    {
      "cell_type": "code",
      "source": [
        "from IPython.display import display, HTML\n",
        "\n",
        "# Adjust the max width of output cells to fit the screen\n",
        "display(HTML(\"<style>.container { width:100% !important; }</style>\"))\n",
        "\n",
        "# Hide the vertical scroll bar for output cells\n",
        "display(HTML(\"<style>.output { overflow-y: hidden; }</style>\"))\n",
        "\n",
        "\n",
        "# Graficamos la porosidad inicial\n",
        "getPorosidad(df1)"
      ],
      "metadata": {
        "id": "EoR0Qxttaqm7"
      },
      "execution_count": null,
      "outputs": []
    },
    {
      "cell_type": "markdown",
      "source": [
        "Las columnas en naranja son las variables que utilizaremos para el cálculo de la variable dependiente  `IndexMorbilidad`\n",
        "\n",
        "Gráfica de quintiles para determinar qué variables podemos recomendar eliminar."
      ],
      "metadata": {
        "id": "bZBz7EqaaxJG"
      }
    },
    {
      "cell_type": "code",
      "source": [
        "getPorosidadQuintiles(df1)"
      ],
      "metadata": {
        "id": "HmuUpiSMbeQ4"
      },
      "execution_count": null,
      "outputs": []
    },
    {
      "cell_type": "markdown",
      "source": [
        "Las siguientes variables que se encuentran en el último quintil, serán recomendada eliminarlas de la matriz de datos:"
      ],
      "metadata": {
        "id": "oKVGIQhsbjVY"
      }
    },
    {
      "cell_type": "code",
      "source": [
        "getVariablesUltimoQuintil(df1)\n",
        "\n",
        "variables_ultimo_quintil = ['adipo_dx', 'Multi0_acfol1', 'AcFsup_dosis_mg', 'trimestre_ev1', 'lep_dx', 'PCT_1av', 'CMB_1av', 'Gluc_1av', 'Tg_1av', 'Col_1av', 'HDL_1av',\n",
        " 'LDL_1av', 'crea_dx', 'CMB_2av', 'PCT_2av', 'urico_dx', 'apob_dx', 'pcr_dx', 'Ins_1av']\n",
        "\n",
        "\n",
        "df1.drop(columns =variables_ultimo_quintil, inplace=True)\n"
      ],
      "metadata": {
        "id": "xMqBU2DPbmKq"
      },
      "execution_count": null,
      "outputs": []
    },
    {
      "cell_type": "markdown",
      "source": [
        "\n",
        "Podemos observar que la variable dependiente candidata `sdg_parto` tiene un 49.5% de densidad. Esto no permitirá tener un modelo fiable, ya que, si optamos por la eliminación de filas sin variable dependiente, solo tendríamos **1,188 * (1-0.495) = 599** (redondeado) observaciones.\n",
        "\n",
        "Por lo tanto, crearemos una variable dependiente (en la fase Ingeniería de Características) llamada `IndexMorbilidad` considerando los siguientes factores de morbilidad de la base de datos:\n",
        "\n"
      ],
      "metadata": {
        "id": "FRnMlyDebrSG"
      }
    },
    {
      "cell_type": "markdown",
      "source": [
        "## Preprocesamiento\n",
        "\n",
        "Realizaremos las siguientes acciones:\n",
        "- Data imputation mediante el método multivariate feature imputation\n",
        "- Generación de variable dependiente mediante la creación de un índice de morbilidades.\n",
        "\n",
        "Además, eliminaremos las características que se encuentran en el último quintil de porosidad, esto previamente consultado con el equipo de investigación.\n"
      ],
      "metadata": {
        "id": "2oTj013wcGY3"
      }
    },
    {
      "cell_type": "markdown",
      "source": [
        "## Data Imputation\n",
        "\n",
        "Utilizaremos el método Multivariate feature imputation que modela cada característica con valores perdidos en función de otras características y utiliza esa estimación para la imputación.\n",
        "\n",
        "Lo hace de forma iterativa: en cada paso, una columna de características se designa como salida y y las demás columnas de características se tratan como entradas X. Se ajusta un regresor en (X, y) para y conocido."
      ],
      "metadata": {
        "id": "raRh7GFecLbN"
      }
    },
    {
      "cell_type": "code",
      "source": [
        "# Lo primero es sustituir los NaN's por celdas vacías para diferenciar limpiamente categóricas de numéricas.\n",
        "# Un valor NaN confundirá una variable numérica con un vector = [0, 1, 'NA', null] en categórica\n",
        "\n",
        "# Solo la variable macrosomia_rn es categórica\n",
        "\n",
        "df_wo_spaces = df1.fillna('')\n",
        "df_cleaned = df_wo_spaces.replace('NA', '')\n",
        "df_cleaned = df_cleaned.replace('Na', '')\n",
        "df_cleaned = df_cleaned.replace('na', '')\n",
        "\n",
        "# Encontramos typos en la base. Colocaron 'o' (vocal o) en lugar de 0\n",
        "# Será necesario reemplazar\n",
        "df_cleaned = df_cleaned.replace('o', 0)\n",
        "# Siguiente paso: identificar variables dicotómicas para ejecutar la correcta estrategia de imputación\n",
        "\n",
        "binary_features = identify_binary(df_cleaned.copy())  # Use a copy to avoid modifying original data\n",
        "all_cols = set(df_cleaned.columns)\n",
        "\n",
        "\n",
        "cols_to_remove_from_numeric =[\"macrosomia_rn\", \"id_gdg\", \"origen_px\"]\n",
        "\n",
        "numeric_features = [x for x in all_cols if x not in binary_features]\n",
        "numeric_features = [x for x in numeric_features if x not in cols_to_remove_from_numeric]\n",
        "\n",
        "categorical_features  =[\"macrosomia_rn\"]\n",
        "\n",
        "#df_cleaned[binary_columns] = df_cleaned[binary_columns].astype(bool)\n",
        "\n",
        "print(f\"Columnas dicotómicas: {binary_features}\")\n",
        "print(f\"Columnas numéricas: {numeric_features}\")\n",
        "print(f\"Columnas categorica: {categorical_features}\")\n",
        "\n",
        "df_cleaned['macrosomia_rn'] = df_cleaned['macrosomia_rn'].astype(str)\n",
        "\n",
        "df_cleaned.to_csv(\"salida.csv\")"
      ],
      "metadata": {
        "id": "JEVFJHiUcGB4"
      },
      "execution_count": null,
      "outputs": []
    },
    {
      "cell_type": "markdown",
      "source": [
        "Eliminaremos las variables `id_gdg` y `origen_px` pues son identificadores. No es necesario imputarlos.\n",
        "\n",
        "Ahora, será necesario aplicar un algoritmo de imputación, en este caso hemos optado por Multivariate feature imputation"
      ],
      "metadata": {
        "id": "4MtUro4GcW7R"
      }
    },
    {
      "cell_type": "markdown",
      "source": [
        "## Data imputation para variables"
      ],
      "metadata": {
        "id": "oIh9-ekhce_u"
      }
    },
    {
      "cell_type": "code",
      "source": [
        "\n",
        "from sklearn.impute import SimpleImputer\n",
        "from sklearn.pipeline import Pipeline\n",
        "from sklearn.compose import ColumnTransformer\n",
        "from sklearn.preprocessing import OneHotEncoder, StandardScaler, FunctionTransformer\n",
        "\n",
        "df_cleaned.replace('', np.nan, inplace=True)\n",
        "\n",
        "\n",
        "# Create pipeline for preprocessing\n",
        "binary_transformer = Pipeline(steps=[\n",
        "    ('imputer', SimpleImputer(strategy='most_frequent')),  # Impute missing values with mode\n",
        "    ('binarizer', FunctionTransformer(lambda x: x.astype(bool), validate=False))  # Convert to binary\n",
        "])\n",
        "\n",
        "numeric_transformer = Pipeline(steps=[\n",
        "    ('imputer', SimpleImputer(strategy='mean')),  # Impute missing values with mean\n",
        "    ('scaler', StandardScaler())  # Scale numerical features if needed\n",
        "])\n",
        "\n",
        "categorical_transformer = Pipeline(steps=[\n",
        "    ('imputer', SimpleImputer(strategy='most_frequent')),  # Impute missing values with mode\n",
        "    ('onehot', OneHotEncoder(handle_unknown='ignore'))  # Encode categorical variables\n",
        "])\n",
        "\n",
        "preprocessor = ColumnTransformer(\n",
        "    transformers=[\n",
        "        ('binary', binary_transformer, binary_features),\n",
        "        ('num', numeric_transformer, numeric_features),\n",
        "        ('cat', categorical_transformer, categorical_features)\n",
        "    ])\n",
        "\n",
        "# Create the pipeline\n",
        "pipeline = Pipeline(steps=[('preprocessor', preprocessor)])\n",
        "pipeline.fit(df_cleaned)\n",
        "\n",
        "# Fit and transform the data\n",
        "transformed_data = pipeline.transform(df_cleaned)\n",
        "\n",
        "\n",
        "# Get feature names\n",
        "binary_feature_names = binary_features\n",
        "numeric_feature_names = numeric_features\n",
        "categorical_feature_names = pipeline.named_steps['preprocessor'].named_transformers_['cat'].named_steps['onehot'].get_feature_names_out(categorical_features)\n",
        "feature_names = binary_feature_names + numeric_feature_names + list(categorical_feature_names)\n",
        "\n",
        "transformed_df = pd.DataFrame(transformed_data, columns=feature_names)\n",
        "print(transformed_df)\n",
        "\n",
        "transformed_df.to_csv(\"final.csv\")\n"
      ],
      "metadata": {
        "id": "GBMpfosrcl7N"
      },
      "execution_count": null,
      "outputs": []
    },
    {
      "cell_type": "code",
      "source": [
        "# Es necesario ahora añadir el identificador y el estado origen de la República Mexicana de la madre\n",
        "dfIds.reset_index(drop=True, inplace=True)\n",
        "transformed_df.reset_index(drop=True, inplace=True)\n",
        "\n",
        "dfFinal = pd.concat([dfIds, transformed_df], axis=1)\n",
        "\n",
        "dfFinal.head()\n",
        "dfFinal.to_csv(\"dfV1.csv\")"
      ],
      "metadata": {
        "id": "J6gWMJz3cp7-"
      },
      "execution_count": null,
      "outputs": []
    },
    {
      "cell_type": "markdown",
      "source": [
        "Hemos realizado la imputación de datos, comprobemos.\n"
      ],
      "metadata": {
        "id": "8GsNCNRBctMR"
      }
    },
    {
      "cell_type": "code",
      "source": [
        "plot_distribution(transformed_df)"
      ],
      "metadata": {
        "id": "RS6MDcxJc0C4"
      },
      "execution_count": null,
      "outputs": []
    },
    {
      "cell_type": "markdown",
      "source": [
        "En un vistazo a las gráficas de distribución se puede observar que ya tenemos una densidad valiosa y además, nuestra imputación en las variables binarias fue exitosa pues tenemos gráficas con valores de 1 o 0. Además, hemos escalado las variables numéricas para la preparación de la ingeniería de características."
      ],
      "metadata": {
        "id": "bq03Glvmc7wk"
      }
    },
    {
      "cell_type": "markdown",
      "source": [
        "## Evaluación de porosidad\n",
        "\n",
        "En este código, revisamos cuántos valores nulos tenemos:\n"
      ],
      "metadata": {
        "id": "o4otDzagdAKQ"
      }
    },
    {
      "cell_type": "code",
      "source": [
        "null_counts_by_column = transformed_df.isnull().sum(axis=0)\n",
        "null_counts_by_column"
      ],
      "metadata": {
        "id": "f2tpxnxcdD-p"
      },
      "execution_count": null,
      "outputs": []
    },
    {
      "cell_type": "markdown",
      "source": [
        "Ahora la gráfica para verificar:"
      ],
      "metadata": {
        "id": "rwOahVb3dHvw"
      }
    },
    {
      "cell_type": "code",
      "source": [
        "getPorosidad(transformed_df)"
      ],
      "metadata": {
        "id": "m_9wJX_0dL5t"
      },
      "execution_count": null,
      "outputs": []
    },
    {
      "cell_type": "markdown",
      "source": [
        "## Análisis bivariado\n",
        "\n",
        "A continuación, realizaremos el análisis bivariado para identificar relaciones interesantes como correlaciones entre variables. El objetivo será eliminar dichas variahbles o aplicar alguna transformación para generar un entrenamiento más rápido."
      ],
      "metadata": {
        "id": "MV2bDWyceCO0"
      }
    },
    {
      "cell_type": "code",
      "source": [
        "# Para una mejor visualización de las correlaciones, usaremos un heatmap\n",
        "plt.figure(figsize=(40, 20))\n",
        "sns.heatmap(transformed_df[numeric_features].corr(), annot = True, vmin = -1, vmax = 1)\n",
        "plt.show()"
      ],
      "metadata": {
        "id": "yMbOd21MeH2t"
      },
      "execution_count": null,
      "outputs": []
    },
    {
      "cell_type": "markdown",
      "source": [
        "### Observaciones análisis bivariado.\n",
        "\n",
        "- Peso_1, Peso_2 y Peso_3 tienen una correlación positiva con el imc_h\n",
        "- Existe una correlación de ct_dx y tg_dx\n",
        "- Encontramos una correlación positiva fuerte con ct_dx e idl_dx\n",
        "- Peso_3 está fuertemente correlacionada con Peso_1\n",
        "- También Peso_2 tiene una correlación positiva con Peso_1\n",
        "- Gluc_dx_60 tiene una correlación positiva con auc\n",
        "- Gluc_dx_120 guarda una correlación positiva con auc\n",
        "- Gluc_d_x 0 con auc\n",
        "- Gluc_dx_180 con auc\n",
        "- Las variables relacionadas con glucosa_0_dx, 60_dx, 120_dx y 180_dx guarda correlaciones positivas\n",
        "- iniciosupl_sdg también tiene una correlación positiva con sdg_fol\n",
        "-idl_dx está correlacionada positivamente con ct_dx\n",
        "- nivel_ses con puntos_ses también están fuertemente correlacionada positivamente\n",
        "\n",
        "En general, un grupo de variables altamente correlacionadas no traerán información adicional al modelo e incrementarán la complejidad del algoritmo, esto aumentará el riesgo de comenter errores. Por tal motivo, se realizará una transformación del dataset con PCA para combatir la gran dimensionalidad del dataframe curado."
      ],
      "metadata": {
        "id": "glhls9Vqfhe3"
      }
    },
    {
      "cell_type": "markdown",
      "source": [
        "## Detección de Outliers\n",
        "\n",
        "A continuación, ejecutaremos código para detección de outliers"
      ],
      "metadata": {
        "id": "R8pIm8MOfneu"
      }
    },
    {
      "cell_type": "code",
      "source": [
        "dfOutliers = transformed_df[numeric_features]\n",
        "outliers_IQR = detect_outliers_iqr(dfOutliers)\n",
        "\n",
        "# Create boxplot for each numerical variable\n",
        "plt.figure(figsize=(14, 6))\n",
        "sns.boxplot(data=dfOutliers, orient='h')\n",
        "plt.title(\"Boxplot of Numerical Variables\")\n",
        "plt.xlabel(\"Values\")\n",
        "plt.ylabel(\"Variables\")\n",
        "plt.xticks(fontsize=10)\n",
        "plt.yticks(fontsize=10)\n",
        "plt.show()"
      ],
      "metadata": {
        "id": "Mjkqozg_fszl"
      },
      "execution_count": null,
      "outputs": []
    },
    {
      "cell_type": "markdown",
      "source": [
        "Ahora sí es claro saber qué variables tienen outliers. Dependiendo del modelo a elegir posteriormente, será importante revisar si será necesario aplicar alguna transformación como box-cox para evitar problemas al momento de entrenar. Considerar que la metodología CRISP nos permite iterar entre fases con lo cual podemos experimentar con algoritmos que no son muy sensibles a los outliers como Random Forest."
      ],
      "metadata": {
        "id": "gBtWxTdvfyp1"
      }
    },
    {
      "cell_type": "markdown",
      "source": [
        "## Selección de variable dependiente\n",
        "\n",
        "En conjunto con el equipo médico, se ha decidido que la variable dependiente será llamada  `IndexMorbilidaderá` compuesta por la suma de presencias en cada una de las siguientes variables:\n",
        "\n",
        "- malformaciones_rn\n",
        "- aborto_rn\n",
        "- obito_rn\n",
        "- mnt_rn\n",
        "- preeclampsia\n",
        "- polihidramnios\n",
        "- hidramnios\n",
        "- infeccion_gesta\n",
        "\n",
        "Es decir, `IndexMorbilidad` tendrá la siguiente escala:\n",
        "\n",
        "- **Clase A**. Si contiene 8 de ellas\n",
        "- **Clase B**. Si contiene entre 4 y 7 de ellas\n",
        "- **Clase C**. Si contiene entre 1 y 3 de ellas\n",
        "- **Clase D**. Si no contiene ninguna\n"
      ],
      "metadata": {
        "id": "CMvXKwQdf3Ex"
      }
    },
    {
      "cell_type": "code",
      "source": [
        "proposed_y_columns = [\n",
        "    \"malformaciones_rn\",\n",
        "    \"aborto_rn\",\n",
        "    \"obito_rn\",\n",
        "    \"mnt_rn\",\n",
        "    \"preeclampsia\",\n",
        "    \"polihidramnios\",\n",
        "    \"hidramnios\",\n",
        "    \"infeccion_gesta\",\n",
        "]\n",
        "\n",
        "X = transformed_df.copy().drop(columns=proposed_y_columns)\n",
        "\n",
        "wip_y = transformed_df.copy()[proposed_y_columns]\n",
        "\n",
        "wip_y[\"sum\"] = wip_y.sum(axis=1)\n",
        "\n",
        "value_ranges = [0, 1, 4, 7, 8]\n",
        "bin_labels = [\"D\", \"C\", \"B\", \"A\"]\n",
        "\n",
        "wip_y[\"IndexMorbilidad\"] = pd.cut(wip_y[\"sum\"], bins=value_ranges, labels=bin_labels, right=False)\n",
        "\n",
        "# wip_y[wip_y[\"sum\"]>=1].describe()\n",
        "\n",
        "y = wip_y.copy()[\"IndexMorbilidad\"]\n",
        "\n",
        "y.describe()"
      ],
      "metadata": {
        "id": "QfX9cFTaf71H"
      },
      "execution_count": null,
      "outputs": []
    },
    {
      "cell_type": "markdown",
      "source": [
        "## PCA"
      ],
      "metadata": {
        "id": "uwZXvYP5gAlX"
      }
    },
    {
      "cell_type": "code",
      "source": [
        "from sklearn.decomposition import PCA\n",
        "\n",
        "pca = PCA()\n",
        "pca.fit(X)\n",
        "\n",
        "plt.figure(figsize=(8, 5))\n",
        "plt.plot(np.cumsum(pca.explained_variance_ratio_), marker='o', linestyle='-')\n",
        "plt.xlabel(\"Number of Components\")\n",
        "plt.ylabel(\"Cumulative Explained Variance Ratio\")\n",
        "plt.title(\"Elbow Method for Choosing Number of Components\")\n",
        "plt.grid(True)\n",
        "plt.show()"
      ],
      "metadata": {
        "id": "swQCEHwEgEg1"
      },
      "execution_count": null,
      "outputs": []
    },
    {
      "cell_type": "code",
      "source": [
        "threshold = 0.99\n",
        "threshold_index = np.argmax(np.cumsum(pca.explained_variance_ratio_) > threshold)\n",
        "print(\"Number of Components required to maintain at least {:.2%} of variance: {}\".format(threshold, threshold_index+1))"
      ],
      "metadata": {
        "id": "V6QukdPegI0m"
      },
      "execution_count": null,
      "outputs": []
    },
    {
      "cell_type": "code",
      "source": [
        "pca_threshold = PCA(n_components=threshold_index+1)\n",
        "pca_threshold.fit(X)\n",
        "X_pca = pca_threshold.transform(X)\n",
        "X_pca"
      ],
      "metadata": {
        "id": "GVNuIvXlgMcB"
      },
      "execution_count": null,
      "outputs": []
    },
    {
      "cell_type": "markdown",
      "source": [
        "## Clustering with K-means after applying PCA dimensionality reduction"
      ],
      "metadata": {
        "id": "En0DVOnHgPt7"
      }
    },
    {
      "cell_type": "code",
      "source": [
        "from sklearn.cluster import KMeans\n",
        "from sklearn.metrics import silhouette_score\n",
        "\n",
        "cluster_range = range(2, 6)\n",
        "\n",
        "fig, axs = plt.subplots(\n",
        "    len(cluster_range),\n",
        "    1,\n",
        "    figsize=(8, len(cluster_range) * 4),\n",
        "    # subplot_kw=dict(projection=\"3d\") # Uncomment for 3D projection\n",
        ")\n",
        "\n",
        "for i, n_clusters in enumerate(cluster_range):\n",
        "    kmeans = KMeans(n_clusters=n_clusters, random_state=22)\n",
        "    cluster_labels = kmeans.fit_predict(X_pca)\n",
        "    silhouette_avg = silhouette_score(X_pca, cluster_labels)\n",
        "\n",
        "    axs[i].scatter(\n",
        "        X_pca[:, 0],\n",
        "        X_pca[:, 1],\n",
        "        # X_pca[:, 2], # Uncomment for 3D projection\n",
        "        c=cluster_labels,\n",
        "        cmap=\"viridis\",\n",
        "    )\n",
        "    axs[i].set_title(f\"K-means  with {n_clusters} Clusters & Silhouette Score: {silhouette_avg}\")\n",
        "    axs[i].set_xlabel(\"Principal Component 1\")\n",
        "    axs[i].set_ylabel(\"Principal Component 2\")\n",
        "    # axs[i].set_zlabel(\"Principal Component 3\") # Uncomment for 3D projection\n",
        "    axs[i].grid(True)\n",
        "\n",
        "plt.tight_layout()\n",
        "plt.show()"
      ],
      "metadata": {
        "id": "FeTV84NdgUq4"
      },
      "execution_count": null,
      "outputs": []
    },
    {
      "cell_type": "markdown",
      "source": [
        "# Ingeniería de características"
      ],
      "metadata": {
        "id": "pzmwXjKoiwcr"
      }
    },
    {
      "cell_type": "markdown",
      "source": [
        "## 1. Construcción"
      ],
      "metadata": {
        "id": "aVzMBFVBitzC"
      }
    },
    {
      "cell_type": "markdown",
      "source": [
        "\n",
        "Tomaremos el dataframe `dfPreparado` que preparamos en la **Fase I**, aplicaremos la construcción de la variable dependiente y la inclusión de nuevas características. Por ejemplo, la variable `prematurez` se basará en el número de semanas de la variable `sdg_parto`.\n",
        "\n",
        "A continuación las reglas de creación de características:\n",
        "\n",
        "- **Prematurez** [variable nueva] En función al valor de la variable `sdg_parto` se determinará si el valor es **1** o **0**. La regla es: Si el valor es menor a 36, entonces será prematuro (1), caso contrario el valor será no prematuro (0).\n",
        "- **EscalaRiesgo** [variable dependiente] Clasificación que tomará como base la suma de '1' en las 8 características indicadas por el cuerpo médico + nueva característica: `prematurez`. Con base en este valor, obtendremos los siguientes valores:\n",
        "  - **A**: Alto riesgo: Puntuación 3 y 4\n",
        "  - **B**: Medio riesgo: Puntuación entre 1 y 2\n",
        "  - **C**: Bajo Riesgo: Puntuación 0\n",
        "\n",
        "- **Clúster asociado** Después de correr un algoritmo de clustering, agregaremos al dataframe _dfPreparado_ el número de clúster asociado.\n",
        "\n",
        "Además, crearemos variables con one hot encoding para la variable `macrosomia_rn`. Dicha variable tiene un vector de valores que comprende ratios, por ejemplo: 1/0 y 0/0\n"
      ],
      "metadata": {
        "id": "o3SO0LCBipX_"
      }
    },
    {
      "cell_type": "markdown",
      "source": [
        "### 1.1. Funciones ad hoc"
      ],
      "metadata": {
        "id": "U-nysKnAi5xS"
      }
    },
    {
      "cell_type": "code",
      "source": [
        "def definePrematurez(sdg_parto):\n",
        "  if sdg_parto > 36:\n",
        "    return 0\n",
        "  else:\n",
        "    return 1\n",
        "\n",
        "def defineClase(valor_IndexMorbilidad):\n",
        "  if valor_IndexMorbilidad ==3 or valor_IndexMorbilidad==4:\n",
        "    return \"A\"\n",
        "  elif valor_IndexMorbilidad ==1 or valor_IndexMorbilidad==2:\n",
        "    return \"B\"\n",
        "  else:\n",
        "    return \"C\"\n",
        "\n",
        "def identify_binary(data):\n",
        "\n",
        "  binary_cols = []\n",
        "  for col in data.columns:\n",
        "    unique_values = data[col].dropna().unique()\n",
        "    #print(f'Col name {col} unique values {unique_values}')\n",
        "\n",
        "    if len(unique_values) == 2 and (set(unique_values) == {0, 1}):\n",
        "\n",
        "      binary_cols.append(col)\n",
        "  return binary_cols"
      ],
      "metadata": {
        "id": "UVk3PEaVjods"
      },
      "execution_count": null,
      "outputs": []
    },
    {
      "cell_type": "markdown",
      "source": [
        "### 1.2 Librerías"
      ],
      "metadata": {
        "id": "Vptkg-PFjp9E"
      }
    },
    {
      "cell_type": "code",
      "source": [
        "import warnings\n",
        "warnings.filterwarnings('ignore')\n",
        "\n",
        "import pandas as pd\n",
        "import numpy as np\n",
        "import matplotlib.pyplot as plt\n",
        "from sklearn.pipeline import Pipeline\n",
        "from sklearn.compose import ColumnTransformer\n",
        "from sklearn.preprocessing import StandardScaler, OneHotEncoder, FunctionTransformer\n",
        "from sklearn.impute import SimpleImputer\n",
        "from sklearn.metrics import silhouette_samples, silhouette_score\n",
        "\n",
        "# Para el clustering\n",
        "from sklearn.decomposition import PCA\n",
        "from sklearn.cluster import KMeans\n"
      ],
      "metadata": {
        "id": "2yudOmF9jwcs"
      },
      "execution_count": null,
      "outputs": []
    },
    {
      "cell_type": "markdown",
      "source": [
        "### 1.3 Carga de datos"
      ],
      "metadata": {
        "id": "KT3woESkj1Bf"
      }
    },
    {
      "cell_type": "code",
      "source": [
        "# Adquisisicón de datos\n",
        "\n",
        "dfPreparado = pd.read_csv(\"data/dataset_proxima_fase.csv\", encoding='utf8')\n",
        "dfIds = dfPreparado[['id_gdg', 'origen_px']]\n",
        "dfPreparado.head()"
      ],
      "metadata": {
        "id": "NOKPP0ivj45d"
      },
      "execution_count": null,
      "outputs": []
    },
    {
      "cell_type": "markdown",
      "source": [
        "### 1.4 Variable Prematurez"
      ],
      "metadata": {
        "id": "3vOjTv7akB4K"
      }
    },
    {
      "cell_type": "code",
      "source": [
        "dfPreparado[\"prematurez\"] = dfPreparado['sdg_parto'].apply(lambda x:definePrematurez(x))"
      ],
      "metadata": {
        "id": "dZOAL3-okMYu"
      },
      "execution_count": null,
      "outputs": []
    },
    {
      "cell_type": "markdown",
      "source": [
        "#### 1.4.1 Revisar distribución de la nueva variable."
      ],
      "metadata": {
        "id": "KrB7mz95kRB5"
      }
    },
    {
      "cell_type": "code",
      "source": [
        "prematurez_counts = dfPreparado['prematurez'].value_counts()\n",
        "prematurez_counts = prematurez_counts.sort_index()\n",
        "plt.bar(prematurez_counts.index, prematurez_counts.values, color='skyblue')\n",
        "plt.xticks(list(map(int, prematurez_counts.index)))\n",
        "\n",
        "plt.title('Prematurez Bar Chart')\n",
        "plt.xlabel('Prematurez')\n",
        "plt.ylabel('Count')\n",
        "plt.show()"
      ],
      "metadata": {
        "id": "nrXGPxujkULH"
      },
      "execution_count": null,
      "outputs": []
    },
    {
      "cell_type": "markdown",
      "source": [
        "### 1.5 Variable dependiente"
      ],
      "metadata": {
        "id": "T_viS_SjkYpU"
      }
    },
    {
      "cell_type": "code",
      "source": [
        "lst_IndexMorbilidad = ['malformaciones_rn', 'aborto_rn','obito_rn','mnt_rn','preeclampsia', 'polihidramnios', 'hidramnios', 'infeccion_gesta', 'prematurez']\n",
        "dfPreparado[\"IndexMorbilidad\"] = dfPreparado[lst_IndexMorbilidad].sum(axis=1)\n",
        "dfPreparado[\"EscalaRiesgo\"] =  dfPreparado['IndexMorbilidad'].apply(lambda x:defineClase(x))"
      ],
      "metadata": {
        "id": "ibQqM5iCkbPn"
      },
      "execution_count": null,
      "outputs": []
    },
    {
      "cell_type": "markdown",
      "source": [
        "#### 1.6 Revisar la distribución de la variable dependiente **EscalaRiesgo**"
      ],
      "metadata": {
        "id": "NKbDbHX2kh0i"
      }
    },
    {
      "cell_type": "code",
      "source": [
        "escala_riesgo = dfPreparado['EscalaRiesgo'].value_counts()\n",
        "escala_riesgo = escala_riesgo.sort_index()\n",
        "plt.bar(escala_riesgo.index, escala_riesgo.values, color='blue')\n",
        "plt.title('Escala Riesgo Bar Chart')\n",
        "plt.xlabel('Escala Riesgo')\n",
        "plt.ylabel('Count')\n",
        "plt.show()"
      ],
      "metadata": {
        "id": "9ERDjQ8Skgwv"
      },
      "execution_count": null,
      "outputs": []
    },
    {
      "cell_type": "code",
      "source": [
        "dfPreparado.to_csv(\"test.csv\")"
      ],
      "metadata": {
        "id": "d5aggMU5koIz"
      },
      "execution_count": null,
      "outputs": []
    },
    {
      "cell_type": "markdown",
      "source": [
        "## 2. Normalización"
      ],
      "metadata": {
        "id": "iaZCyRvEksb-"
      }
    },
    {
      "cell_type": "markdown",
      "source": [
        "En esta fase, realizaremos escalamiento de las variables numéricas pues, derivado del análisis de la **Fase 1** encontramos diferentes outliers que pueden desestabilizar el modelo base y subsecuentes.\n",
        "\n",
        "Utilizaremos un Pipeline para crear la canalización para aplicar las transformaciones pertinentes."
      ],
      "metadata": {
        "id": "h5tyHqL1kwKw"
      }
    },
    {
      "cell_type": "code",
      "source": [
        "binary_features = identify_binary(dfPreparado)\n",
        "\n",
        "all_cols = set(dfPreparado.columns)\n",
        "cols_to_remove_from_numeric =[\"macrosomia_rn\", \"id_gdg\", \"origen_px\"]\n",
        "\n",
        "numeric_features = [x for x in all_cols if x not in binary_features]\n",
        "numeric_features = [x for x in numeric_features if x not in cols_to_remove_from_numeric]\n",
        "numeric_features.remove(\"IndexMorbilidad\")\n",
        "numeric_features.remove(\"EscalaRiesgo\")\n",
        "numeric_features.remove(\"anticonceptivo\")\n",
        "\n",
        "categorical_features  =[\"macrosomia_rn\", \"anticonceptivo\"]\n",
        "\n",
        "print(binary_features)"
      ],
      "metadata": {
        "id": "lVA7F0N8kxtG"
      },
      "execution_count": null,
      "outputs": []
    },
    {
      "cell_type": "code",
      "source": [
        "\n",
        "# Create pipeline for preprocessing\n",
        "binary_transformer = Pipeline(steps=[\n",
        "    ('imputer', SimpleImputer(strategy='most_frequent')),  # Impute missing values with mode\n",
        "    ('binarizer', FunctionTransformer(lambda x: x.astype(bool), validate=False))  # Convert to binary\n",
        "])\n",
        "\n",
        "numeric_transformer = Pipeline(steps=[\n",
        "    ('scaler', StandardScaler())  # Scale numerical features if needed\n",
        "])\n",
        "\n",
        "categorical_transformer = Pipeline(steps=[\n",
        "\n",
        "    ('onehot', OneHotEncoder(handle_unknown='ignore'))  # Encode categorical variables\n",
        "])\n",
        "\n",
        "preprocessor = ColumnTransformer(\n",
        "    transformers=[\n",
        "        ('binary', binary_transformer, binary_features),\n",
        "        ('num', numeric_transformer, numeric_features),\n",
        "        ('cat', categorical_transformer, categorical_features)\n",
        "    ])\n",
        "\n",
        "# Create the pipeline\n",
        "pipeline = Pipeline(steps=[('preprocessor', preprocessor)])\n",
        "pipeline.fit(dfPreparado)\n",
        "\n",
        "# Fit and transform the data\n",
        "transformed_data = pipeline.transform(dfPreparado)\n",
        "\n",
        "\n",
        "# Get feature names\n",
        "binary_feature_names = binary_features\n",
        "numeric_feature_names = numeric_features\n",
        "categorical_feature_names = pipeline.named_steps['preprocessor'].named_transformers_['cat'].named_steps['onehot'].get_feature_names_out(categorical_features)\n",
        "feature_names = binary_feature_names + numeric_feature_names + list(categorical_feature_names)\n",
        "\n",
        "transformed_df = pd.DataFrame(transformed_data, columns=feature_names)\n",
        "transformed_df.to_csv(\"final.csv\")"
      ],
      "metadata": {
        "id": "i1EvFAQck4Pp"
      },
      "execution_count": null,
      "outputs": []
    },
    {
      "cell_type": "markdown",
      "source": [
        "## 3. Selección / Extracción\n"
      ],
      "metadata": {
        "id": "hh1rN4Dgk8tt"
      }
    },
    {
      "cell_type": "markdown",
      "source": [
        "En esta fase incluiremos la evaluación por clustering y agregaremos como característica de identificación el cluster identificado.\n",
        "\n",
        "Esto se realiza hasta esta fase debido a que se procesaron, imputaron y escalaron primero los datos.\n"
      ],
      "metadata": {
        "id": "wJAePTE-k9jj"
      }
    },
    {
      "cell_type": "markdown",
      "source": [
        "### 3.1 Evaluación del número óptimo de clústers"
      ],
      "metadata": {
        "id": "Xxa16I18mH3Q"
      }
    },
    {
      "cell_type": "markdown",
      "source": [
        "De acuerdo a esta primera evaluación, es posible apreciar que **3** es el número adecuado de clusters para el dataset. Podemos ver cómo la curva \"rompe\" en el cluster 3. Confirmaremos nuestra hipótesis con la gráfica de silueta."
      ],
      "metadata": {
        "id": "LXlakh4HmMKS"
      }
    },
    {
      "cell_type": "code",
      "source": [
        "pca = PCA(n_components=2)\n",
        "pca.fit(transformed_df)\n",
        "df_pca = pca.transform(transformed_df)\n",
        "\n",
        "\n",
        "distortions = []\n",
        "for i in range(1, 11):  # Test cluster numbers from 1 to 10\n",
        "    kmeans = KMeans(n_clusters=i, random_state=42)\n",
        "    kmeans.fit(df_pca)\n",
        "    distortions.append(kmeans.inertia_)\n",
        "\n",
        "\n",
        "plt.plot(range(1, 11), distortions, marker='o')\n",
        "plt.title('Elbow Chart')\n",
        "plt.xlabel('Número de clusters')\n",
        "plt.ylabel('Distortion')\n",
        "plt.xticks(range(1, 11))\n",
        "plt.show()\n",
        "\n"
      ],
      "metadata": {
        "id": "cKR36q0ymPk0"
      },
      "execution_count": null,
      "outputs": []
    },
    {
      "cell_type": "markdown",
      "source": [
        "Ahora la gráfica de clustering:"
      ],
      "metadata": {
        "id": "XjArOqiUmUle"
      }
    },
    {
      "cell_type": "code",
      "source": [
        "optimal_num_clusters = 3\n",
        "\n",
        "\n",
        "kmeans = KMeans(n_clusters=optimal_num_clusters, random_state=42)\n",
        "cluster_labels = kmeans.fit_predict(df_pca)\n",
        "\n",
        "\n",
        "plt.figure(figsize=(10, 6))\n",
        "plt.scatter(df_pca[:, 0], df_pca[:, 1], c=cluster_labels, cmap='viridis', alpha=0.5)\n",
        "plt.xlabel('Principal Component 1')\n",
        "plt.ylabel('Principal Component 2')\n",
        "plt.title('Clusters based on PCA')\n",
        "plt.colorbar(label='Cluster')\n",
        "plt.show()"
      ],
      "metadata": {
        "id": "ZaOfL-8FmgHc"
      },
      "execution_count": null,
      "outputs": []
    },
    {
      "cell_type": "markdown",
      "source": [
        "En este código evaluamos el score de silueta para entender qué tan bien están clasificados los puntos de acuerdo al número de clúster.\n",
        "\n",
        "- **Valores cercanos a 1:** Puntos bien clasificados y cercanos al centroide de grupo.\n",
        "- **Valores cercanos a 0:** Puntos entre el límite de 2 clusters\n",
        "- **Valores cercanos a -1:** Puntos mal clasificados y alejados del centroide de grupo.\n",
        "\n",
        "En este sentido, 2 clústers nos dan la mejor pertenencia. Sin embargo, agrupar por 3 tiene es más armónico con la variable dependiente `EscalaRiesgo`"
      ],
      "metadata": {
        "id": "gvOaNHAumlbX"
      }
    },
    {
      "cell_type": "code",
      "source": [
        "range_n_clusters = [2, 3, 4, 5, 6, 7, 8, 9, 10]\n",
        "silhouette_scores = []\n",
        "\n",
        "for n_clusters in range_n_clusters:\n",
        "    kmeans = KMeans(n_clusters=n_clusters, random_state=42)\n",
        "    cluster_labels = kmeans.fit_predict(df_pca)\n",
        "\n",
        "    silhouette_avg = silhouette_score(df_pca, cluster_labels)\n",
        "    silhouette_scores.append(silhouette_avg)\n",
        "\n",
        "    sample_silhouette_values = silhouette_samples(df_pca, cluster_labels)\n",
        "\n",
        "    fig, ax = plt.subplots()\n",
        "    ax.set_xlim([-0.1, 1])\n",
        "    ax.set_ylim([0, len(df_pca) + (n_clusters + 1) * 10])\n",
        "\n",
        "    y_lower = 10\n",
        "    for i in range(n_clusters):\n",
        "        ith_cluster_silhouette_values = sample_silhouette_values[cluster_labels == i]\n",
        "        ith_cluster_silhouette_values.sort()\n",
        "        size_cluster_i = ith_cluster_silhouette_values.shape[0]\n",
        "        y_upper = y_lower + size_cluster_i\n",
        "        color = plt.cm.tab10(float(i) / n_clusters)\n",
        "        ax.fill_betweenx(np.arange(y_lower, y_upper), 0, ith_cluster_silhouette_values,\n",
        "                          facecolor=color, edgecolor=color, alpha=0.7)\n",
        "        ax.text(-0.05, y_lower + 0.5 * size_cluster_i, str(i))\n",
        "        y_lower = y_upper + 10  # 10 for the 0 samples\n",
        "\n",
        "    ax.set_title(\"Silhouette plot for {} clusters\".format(n_clusters))\n",
        "    ax.set_xlabel(\"Silhouette coefficient values\")\n",
        "    ax.set_ylabel(\"Cluster label\")\n",
        "\n",
        "    ax.axvline(x=silhouette_avg, color=\"red\", linestyle=\"--\")\n",
        "    ax.annotate('Average silhouette\\nscore: {:.2f}'.format(silhouette_avg), xy=(silhouette_avg, len(df_pca) * 0.95),\n",
        "                xytext=(silhouette_avg + 0.05, len(df_pca) * 0.95),\n",
        "                arrowprops=dict(facecolor='black', shrink=0.05))\n",
        "\n",
        "    ax.set_yticks([])\n",
        "    ax.set_xticks([-0.1, 0, 0.2, 0.4, 0.6, 0.8, 1])\n",
        "\n",
        "    plt.show()\n",
        "\n",
        "\n",
        "plt.plot(range_n_clusters, silhouette_scores, marker='o')\n",
        "plt.title('Silhouette Scores for Different Numbers of Clusters')\n",
        "plt.xlabel('Number of clusters')\n",
        "plt.ylabel('Silhouette Score')\n",
        "plt.xticks(range_n_clusters)\n",
        "plt.show()"
      ],
      "metadata": {
        "id": "8el5cR-amqK7"
      },
      "execution_count": null,
      "outputs": []
    },
    {
      "cell_type": "markdown",
      "source": [
        "### 3.2 Asignación del número de cluster a cada observacion"
      ],
      "metadata": {
        "id": "rB3j6U71mutc"
      }
    },
    {
      "cell_type": "markdown",
      "source": [
        "En esta parte del código, se asignará el número de cluster calculado a cada observación. Hemos definido **3** como el número ideal después de los análisis realizados."
      ],
      "metadata": {
        "id": "t_Zkt7PRmwBr"
      }
    },
    {
      "cell_type": "code",
      "source": [
        "kmeans = KMeans(n_clusters=3, random_state=42)\n",
        "cluster_labels = kmeans.fit_predict(transformed_df)\n",
        "\n",
        "\n",
        "transformed_df['cluster'] = cluster_labels\n",
        "\n",
        "# Agregar el id_gdg y origen_px para fines de visualización posterior\n",
        "\n",
        "dfFinal = pd.concat([dfIds, transformed_df], axis=1)\n",
        "dfFinal.to_csv(\"clusters.csv\")"
      ],
      "metadata": {
        "id": "7fuRn9NOm3PE"
      },
      "execution_count": null,
      "outputs": []
    },
    {
      "cell_type": "markdown",
      "source": [
        "### 3.3 Identificación de componentes principales **(PCA)**\n"
      ],
      "metadata": {
        "id": "c6PPNc0Fm7ah"
      }
    },
    {
      "cell_type": "markdown",
      "source": [
        "Con este análisis podremos identificar cuáles características suman información al modelo."
      ],
      "metadata": {
        "id": "fUFx35Lzm8Rn"
      }
    },
    {
      "cell_type": "code",
      "source": [
        "pcs = PCA(n_components=85)\n",
        "\n",
        "principalComponents = pcs.fit_transform(transformed_df)\n",
        "scores_pca = pcs.transform(transformed_df)\n",
        "\n",
        "pcsSummary = pd.DataFrame({'Standard deviation': np.sqrt(pcs.explained_variance_),\n",
        "                          'Proportion of variance':pcs.explained_variance_ratio_,\n",
        "                          'Cumulative proportion': np.cumsum(pcs.explained_variance_ratio_)#column\n",
        "                          }\n",
        "                          )\n",
        "pcsSummary.round(4)\n"
      ],
      "metadata": {
        "id": "EznibBienJZl"
      },
      "execution_count": null,
      "outputs": []
    },
    {
      "cell_type": "code",
      "source": [
        "\n",
        "loadings_df = pd.DataFrame(pcs.components_.T, columns=transformed_df.columns)\n",
        "loadings_df"
      ],
      "metadata": {
        "id": "m2EfSAutnMxV"
      },
      "execution_count": null,
      "outputs": []
    },
    {
      "cell_type": "markdown",
      "source": [
        "Con esta tabla podemos calcular fácilmente que:\n",
        "\n",
        "- Hasta el componente **18** podemos acumular 81% del total de varianza\n",
        "\n",
        "- Los componentes 0 y 1 son los que mayor valor aportan al dataset con 0.15 y 0.23 respectivamente.\n",
        "\n",
        "Grafiquemos estos resultados para tener una mejor claridad de las cosas.\n",
        "\n",
        "Como habíamos notado en el componente principal **18** acumulamos el **81%** sin embargo, por tratarse de un tema médico, aumentaremos nuestro umbral a **99%**. Encontramos que en el componente **51** alcanzamos este umbral."
      ],
      "metadata": {
        "id": "kNBV2YVLnRjY"
      }
    },
    {
      "cell_type": "markdown",
      "source": [
        "### 3.4 **Insight**\n"
      ],
      "metadata": {
        "id": "hnB9H5UynWSA"
      }
    },
    {
      "cell_type": "markdown",
      "source": [
        "Da mucho valor esta gráfica, pues partimos de una matriz transformada de 85 (menos 2 de identificación y estado de origen) columnas, ahora podemos quedarnos con solo 31 de estas características y facilitar el entrenamiento.\n",
        "\n",
        "Como habíamos mencionado, hasta el componente **51** tenemos alrededor del **99%** de la varianza. Consideramos suficiente esta concentración de información para nuestros análisis.\n",
        "\n",
        "Para completar el análisis de PCA, examinemos cada una de las variables para entender cuánto aportan de información a cada componente."
      ],
      "metadata": {
        "id": "yOntiBSsnXY3"
      }
    },
    {
      "cell_type": "code",
      "source": [
        "# Hagamos una gráfica para representarlo y determinar el número mínimo de componentes:\n",
        "\n",
        "import seaborn as sns\n",
        "\n",
        "PC_components = np.arange(pcs.n_components_) + 1\n",
        "#PC_components\n",
        "\n",
        "_ = sns.set(style = 'whitegrid',\n",
        "            font_scale = .8, rc={'xtick.labelsize': 10}\n",
        "            )\n",
        "\n",
        "fig, ax = plt.subplots(figsize=(20, 7))\n",
        "\n",
        "_ = sns.barplot(x = PC_components,\n",
        "                y = pcs.explained_variance_ratio_,\n",
        "                color = 'b'\n",
        "                )\n",
        "\n",
        "_ = sns.lineplot(x = PC_components-1,\n",
        "                 y = np.cumsum(pcs.explained_variance_ratio_),\n",
        "                 color = 'black',\n",
        "                 linestyle = '-',\n",
        "                 linewidth = 2,\n",
        "                 marker = 'o',\n",
        "                 markersize = 4\n",
        "                 )\n",
        "plt.axvline(x=18, color='r', linestyle='--', linewidth=2)\n",
        "plt.text(18, 0.81, \"81% varianza\", color='r', fontsize=12, verticalalignment='bottom')\n",
        "# Add a vertical line at x=30 (for example)\n",
        "plt.axvline(x=51, color='g', linestyle='--', linewidth=2)\n",
        "\n",
        "# Add text \"99% varianza\" at x=30\n",
        "plt.text(51, 0.99, \"99% varianza\", color='g', fontsize=12, verticalalignment='bottom')\n",
        "\n",
        "plt.title('Variance Plot')\n",
        "plt.xlabel('N-th Principal Component')\n",
        "plt.ylabel('Variance Explained')\n",
        "plt.ylim(0, 1)\n",
        "plt.show()"
      ],
      "metadata": {
        "id": "At9iFi2ynmWv"
      },
      "execution_count": null,
      "outputs": []
    },
    {
      "cell_type": "markdown",
      "source": [
        "## Conclusiones apartado\n",
        "\n",
        "Una vez realizada la primera fase del proyecto, consistente en el entendimiento del negocio, pasamos a la etapa de limpieza, escalado e imputación de los datos. En esta fase nos quedamos con 76 variables de los 99 originales, se creó una nueva variable llamada prematurez, la cual se agrega al nuevo conjunto de variables.\n",
        "\n",
        "Al no tener una variable dependiente única, decidimos crear un índice de morbilidad, este índice lo que busca es ser un indicador de riesgo, y toma como base las variables “malformaciones_rn”, “aborto_rn”,”obito_rn”,”mnt_rn”,”preeclampsia”, “polihidramnios”, “hidramnios”, “infección_gesta”, “prematurez”. Como se observa, se incluye la nueva variable creada “prematurez”.\n",
        "\n",
        "Al índice se le agregó una escala de riesgo denotada con “A” para Alto Riesgo, “B” para Riesgo Medio y “C” para Bajo Riesgo. Graficamos la escala de riesgo y nos muestra una baja proporción de alto riesgo, una proporción media de “Medio Riesgo” y una proporción grande de “Bajo Riesgo”.\n",
        "\n",
        "Derivado de outliers se realizó un proceso de escalamiento a fin de normalizar las variables y con ello poder tener mejores resultados.\n",
        "\n",
        "Aplicamos una reducción de dimensionalidad a fin de tener mejores datos para el entrenamiento de un modelo de clasificación pues a mayor número de características, mayor complejidad computacional, es decir, se requerirá recursos informáticos y por lo tanto mayor tiempo de entrenamiento. El resultado de esto fue que 3 sería el mejor número de clúster para aplicar, lo cual se comprobó con la curva Elbow.\n",
        "\n",
        "Con la técnica Principal Component Analysis identificamos cuantos componentes necesitamos para lograr el mejor resultado, encontramos que para lograr el 99% se requiere hasta el 51 componente y para determinar el mínimo serían 18 alcanzando un 81%.\n",
        "\n",
        "Dado que la metodología CRIPS es iterativa, podremos revisitar esta fase para experimentar con otros algoritmos de reducción de características.\n"
      ],
      "metadata": {
        "id": "sr-BQHtRntFY"
      }
    },
    {
      "cell_type": "markdown",
      "source": [
        "# IV Baseline"
      ],
      "metadata": {
        "id": "LiM7Xn5EoLe1"
      }
    },
    {
      "cell_type": "markdown",
      "source": [
        "\n",
        "\n",
        "Proyecto:\n",
        "\n",
        "*Modelo clasificador de multimorbilidad maternal y predictor de desenlaces perinatales a partir de datos clínicos metabólicos, genéticos y nutricionales de mujeres mexicanas*\n"
      ],
      "metadata": {
        "id": "0ESqpG8Ngj79"
      }
    },
    {
      "cell_type": "markdown",
      "source": [
        "## 1. Algoritmo\n",
        "\n",
        "El problema escogido será tratado como aprendizaje supervisado. Nos enfocaremos en la predicción de una variable dependiente \"EscalaRiesgo\" que contendrá 3 valores:\n",
        "- A. Para alto riesgo (la presencia de 3 o 4 factores multimorbilidad)\n",
        "- B. Para medio riesgo (presencia de 1 o 2 factores multimorbilidad)\n",
        "- C. Para riesgo nulo. (sin la presencia de factores de multimorbilidad)\n",
        "\n",
        "En esta entrega utilizaremos un algoritmo de **Random Forest** por las siguientes causas:\n",
        "- **Precisión**. Los árboles de bosque aleatorios proporcionan buenos resultados cuando tenemos datos con muchas características.\n",
        "- **Manejo del sobreajuste.** Mediante el promedio de los resultados de los árboles, los bosques aleatorios reducen el riesgo de sobreajuste en comparación con un único árbol de decisión.\n",
        "- **Heterogeneidad.** Funcionan muy buen con datos tanto numéricos como categóricos\n",
        "- Son mucho menos sensibles a datos ruidosos.\n",
        "- **Generalización.** Dan muy buenos resultados en térrminos de generalización para nuevas observaciones\n"
      ],
      "metadata": {
        "id": "e3f055a7grDf"
      }
    },
    {
      "cell_type": "code",
      "source": [
        "import pandas as pd\n",
        "import numpy as np\n",
        "from sklearn.model_selection import train_test_split, cross_val_score, StratifiedKFold, learning_curve\n",
        "\n",
        "from sklearn.ensemble import RandomForestClassifier\n",
        "from sklearn.metrics import classification_report, confusion_matrix\n",
        "import matplotlib.pyplot as plt\n",
        "import seaborn as sns"
      ],
      "metadata": {
        "id": "z9ykt-Qdg22O"
      },
      "execution_count": null,
      "outputs": []
    },
    {
      "cell_type": "markdown",
      "source": [
        "##1.2 Carga de datos limpios"
      ],
      "metadata": {
        "id": "4xVLpXY6g8Mm"
      }
    },
    {
      "cell_type": "code",
      "source": [
        "file_path = r'data/data_limpia.csv'\n",
        "\n",
        "#Eliminamos columnas que no necesitaremos como identificarores y el número de clúster\n",
        "\n",
        "cols_to_remove = ['id_gdg', 'origen_px', 'IndexMorbilidad', 'anticonceptivo_0.0',\n",
        "       'anticonceptivo_0.6316526610644257', 'anticonceptivo_1.0',\n",
        "       'anticonceptivo_2.0', 'cluster']\n",
        "\n",
        "data = pd.read_csv(file_path, sep=\";\", encoding='utf-8')\n",
        "data  = data.drop(cols_to_remove , axis=1)\n",
        "\n",
        "data.head()"
      ],
      "metadata": {
        "id": "8y-gVP-yhBNe"
      },
      "execution_count": null,
      "outputs": []
    },
    {
      "cell_type": "markdown",
      "source": [
        "###1.2.1 Inspección rápida de la data cargada"
      ],
      "metadata": {
        "id": "Rz1yLLIyhG5T"
      }
    },
    {
      "cell_type": "code",
      "source": [
        "data.describe().T"
      ],
      "metadata": {
        "id": "Y64KY2ExhKik"
      },
      "execution_count": null,
      "outputs": []
    },
    {
      "cell_type": "code",
      "source": [
        "data.isnull().sum()"
      ],
      "metadata": {
        "id": "4-A13q_ckXkR"
      },
      "execution_count": null,
      "outputs": []
    },
    {
      "cell_type": "markdown",
      "source": [
        "## 1.3 Generación de holdout set"
      ],
      "metadata": {
        "id": "nPvJIKrQkb6B"
      }
    },
    {
      "cell_type": "code",
      "source": [
        "X = data.drop('EscalaRiesgo', axis=1)\n",
        "y = data['EscalaRiesgo']\n",
        "\n",
        "X_train, X_holdout, y_train, y_holdout = train_test_split(X, y, test_size=0.2, random_state=42, stratify=y)"
      ],
      "metadata": {
        "id": "M72lDbFDkfgf"
      },
      "execution_count": null,
      "outputs": []
    },
    {
      "cell_type": "markdown",
      "source": [
        "## 1.4 Entrenamiento del algoritmo"
      ],
      "metadata": {
        "id": "QAvPM2YLkoLr"
      }
    },
    {
      "cell_type": "code",
      "source": [
        "# 3. Evaluate the main features towards EscalaRiesgo using RandomForestClassifier\n",
        "model = RandomForestClassifier(random_state=42)\n",
        "model.fit(X_train, y_train)"
      ],
      "metadata": {
        "id": "PZxkULAykyiO"
      },
      "execution_count": null,
      "outputs": []
    },
    {
      "cell_type": "markdown",
      "source": [
        "## 2. Características Importantes"
      ],
      "metadata": {
        "id": "ZU01pCEvgw7J"
      }
    },
    {
      "cell_type": "code",
      "source": [
        "feature_importances = pd.DataFrame(model.feature_importances_, index=X_train.columns, columns=['importance']).sort_values('importance', ascending=False)\n",
        "\n",
        "plt.figure(figsize=(10, 12))\n",
        "sns.barplot(x=feature_importances.importance, y=feature_importances.index)\n",
        "plt.title('Feature Importance')\n",
        "plt.xlabel('Importance')\n",
        "plt.ylabel('Feature')\n",
        "plt.show()"
      ],
      "metadata": {
        "id": "QSBl1QVMk6iW"
      },
      "execution_count": null,
      "outputs": []
    },
    {
      "cell_type": "markdown",
      "source": [
        "##2.1 Evaluación con observaciones no vistas"
      ],
      "metadata": {
        "id": "gZgn0dvCk-VI"
      }
    },
    {
      "cell_type": "code",
      "source": [
        "y_pred = model.predict(X_holdout)\n",
        "print(classification_report(y_holdout, y_pred))"
      ],
      "metadata": {
        "id": "-r2GYVjClBcC"
      },
      "execution_count": null,
      "outputs": []
    },
    {
      "cell_type": "markdown",
      "source": [
        "A primera vista, nuestro modelo puede estar sobreajustado. No tenemos valores superiores a 0 en precisión y recall por lo tanto el F1-Score cae a valores de **0.66**\n",
        "\n",
        "No tener valores en precisión y recall además de una F1-Score en .66 son nuestras métricas base para afinar el modelo."
      ],
      "metadata": {
        "id": "PvrpXC3jlFSS"
      }
    },
    {
      "cell_type": "markdown",
      "source": [
        "##3. Sub / Sobreajuste"
      ],
      "metadata": {
        "id": "TT7muNM7lJAO"
      }
    },
    {
      "cell_type": "code",
      "source": [
        "train_scores = []\n",
        "val_scores = []\n",
        "\n",
        "cv = 5\n",
        "for train_idx, val_idx in StratifiedKFold(n_splits=cv).split(X_train, y_train):\n",
        "    X_cv_train, X_cv_val = X_train.iloc[train_idx], X_train.iloc[val_idx]\n",
        "    y_cv_train, y_cv_val = y_train.iloc[train_idx], y_train.iloc[val_idx]\n",
        "\n",
        "    model.fit(X_cv_train, y_cv_train)\n",
        "\n",
        "    train_score = model.score(X_cv_train, y_cv_train)\n",
        "    val_score = model.score(X_cv_val, y_cv_val)\n",
        "\n",
        "    train_scores.append(train_score)\n",
        "    val_scores.append(val_score)\n",
        "\n",
        "plt.figure(figsize=(10, 6))\n",
        "plt.plot(range(1, cv+1), train_scores, label='Training Score')\n",
        "plt.plot(range(1, cv+1), val_scores, label='Validation Score')\n",
        "plt.title('Training vs Validation Scores')\n",
        "plt.xlabel('Fold')\n",
        "plt.ylabel('Score')\n",
        "plt.legend()\n",
        "plt.show()"
      ],
      "metadata": {
        "id": "LBUltVWclNqi"
      },
      "execution_count": null,
      "outputs": []
    },
    {
      "cell_type": "markdown",
      "source": [
        "Tenemos un modelo sobreajustado, el modelo ha memorizado las relaciones entrevariables. Esto es claro pues tenemos valores de **1.00** en el entrenamiento y valores de 0.98 en el set de validación. No tenemos generalización."
      ],
      "metadata": {
        "id": "05rqg-mIlSMW"
      }
    },
    {
      "cell_type": "markdown",
      "source": [
        "##4. Métrica"
      ],
      "metadata": {
        "id": "zuC3qjRHlVnW"
      }
    },
    {
      "cell_type": "markdown",
      "source": [
        "Para este problema de clasificación multiclase, utilizamos classification_report que incluye:\n",
        "- Precisión: Indica la proporción de identificaciones positivas que fueron realmente correctas.\n",
        "- Recall: Indica la proporción de positivos reales que fueron identificados correctamente.\n",
        "- Puntuación F1: Media armónica de la precisión y la recuperación, que proporciona una medida única del rendimiento del modelo.\n",
        "- Soporte: Número de casos reales de la clase en el conjunto de datos especificado.\n",
        "\n",
        "La elección de estas métricas nos permite equilibrar la precisión y el recall, proporcionando una evaluación completa del rendimiento del modelo en todas las clases.\n",
        "\n",
        "Como se mencionó, nuestra **F1-score está en 0.66**\n",
        "\n",
        "La matriz de confusión soporta lo mal que performa el modelo con la clase **A** (alto riesgo)."
      ],
      "metadata": {
        "id": "DJlr57W_lbFv"
      }
    },
    {
      "cell_type": "markdown",
      "source": [
        "## 4.1 Matriz de confusion\n",
        "\n",
        "Una herramienta vital para el entendimiento del desemeño de nuestro modelo es la matriz de confusión, a continuación se codifica esta funcionalidad."
      ],
      "metadata": {
        "id": "u81ik41VlfzE"
      }
    },
    {
      "cell_type": "code",
      "source": [
        "print(confusion_matrix(y_holdout, y_pred))"
      ],
      "metadata": {
        "id": "u8N-9zKhlRuV"
      },
      "execution_count": null,
      "outputs": []
    },
    {
      "cell_type": "code",
      "source": [
        "conf_matrix = confusion_matrix(y_holdout, y_pred)\n",
        "plt.figure(figsize=(10, 7))\n",
        "sns.heatmap(conf_matrix, annot=True, fmt='d', cmap='Blues', xticklabels=model.classes_, yticklabels=model.classes_)\n",
        "plt.title('Confusion Matrix')\n",
        "plt.xlabel('Predicted')\n",
        "plt.ylabel('Actual')\n",
        "plt.show()"
      ],
      "metadata": {
        "id": "d-hz0ip_ll3B"
      },
      "execution_count": null,
      "outputs": []
    },
    {
      "cell_type": "markdown",
      "source": [
        "Tenemos un desbalanceo de clases notable, la clase A no es predicha en ningún momento. Deberemos tratar esto, en la siguiente fase, con un algoritmo **SMOTE** (Synthetic Minority Over-sampling Technique) y como si fuera un caso de uso de fraude donde el fraude es tratado como una anomalía estadística. Aquí será similar, nos interesa un balanceo uniformne entre clases y no lo tenemos."
      ],
      "metadata": {
        "id": "8hhBOJ-RlqH9"
      }
    },
    {
      "cell_type": "markdown",
      "source": [
        "Un punto interesante es que ejecutamos un algoritmo SVC y obtuvimos mejores resultados en la matriz de confusión; dicho algoritmo logró predecir correctamente 2 observaciones en la clase A.\n",
        "\n",
        "Definitivamente incluiremos SVC para la siguiente entrega y lo pondremos a competir vs RandomForest y una Red Neuronal."
      ],
      "metadata": {
        "id": "VjsIi2tRlvWu"
      }
    },
    {
      "cell_type": "code",
      "source": [
        "feature_importances.to_csv('feature_importances.csv', index=True)\n",
        "pd.DataFrame(classification_report(y_holdout, y_pred, output_dict=True)).to_csv('classification_report.csv', index=True)"
      ],
      "metadata": {
        "id": "W7rDMcjtl0RV"
      },
      "execution_count": null,
      "outputs": []
    },
    {
      "cell_type": "markdown",
      "source": [
        "##5. Desempeño"
      ],
      "metadata": {
        "id": "kKQa9ULll6e0"
      }
    },
    {
      "cell_type": "code",
      "source": [
        "train_sizes, train_scores, val_scores = learning_curve(\n",
        "    RandomForestClassifier(random_state=42), X, y, cv=cv, n_jobs=-1,\n",
        "    train_sizes=np.linspace(0.1, 1.0, 10), scoring='accuracy')\n",
        "\n",
        "train_scores_mean = np.mean(train_scores, axis=1)\n",
        "val_scores_mean = np.mean(val_scores, axis=1)\n",
        "\n",
        "plt.figure(figsize=(10, 6))\n",
        "plt.plot(train_sizes, train_scores_mean, label='Training Score')\n",
        "plt.plot(train_sizes, val_scores_mean, label='Validation Score')\n",
        "plt.title('Learning Curve')\n",
        "plt.xlabel('Training Size')\n",
        "plt.ylabel('Score')\n",
        "plt.legend()\n",
        "plt.show()"
      ],
      "metadata": {
        "id": "ZKS8YI-sl-qA"
      },
      "execution_count": null,
      "outputs": []
    },
    {
      "cell_type": "markdown",
      "source": [
        "Observamos un desempeño sobreajustado. Esto debido a la alta dimensionalidad, el desbalanceo de clases y la falta de hiperparámetros. Como modelo base es aceptable comenzar con un modelo con estas características. Lo importante será afinar, balancear y aplicar diferentes modelos de clasificación y elegir el que devuelva mejores F1-Score y una ROC aceptable."
      ],
      "metadata": {
        "id": "z9iYtqZnmC1k"
      }
    },
    {
      "cell_type": "markdown",
      "source": [
        "## Conclusiones apartado\n",
        "\n",
        "Despues de realizar el tratamiento de datos, en esta etapa creamos nuestro primer modelo, donde encontramos que estamos ante un conjunto de datos muy complejo.\n",
        "\n",
        "Em primer lugar identificamos las variables infeccion_gesta, prematurez,preeclampsia, sdg_parto, termino_rn, hidramnios, malformaciones_rn, auc, escolaridad, gluc_dx_60, ac_fol_gesta, gluc_dx_120, imc_h, infeccion_pregesta, gluc_dx_180, gluc_dx_0, polihidramnios, edad_dx, peso_2, modo_parto, ct_dx,tg_dx, proporcionan un poder acumulado predictivo de __0.80__ puntos, lo que nos indica que estas definitivamente estarán en el modelo, para el resto de las variables tendríamos que analizarlas nuevamente a fin de determinar las que no tienen un impacto signiticativo.\n",
        "\n",
        "En segundo lugar, entrenamos tres modelos: Random Forest Classifier, Support Vector Machines y CNN, nos quedamos con Random Forest Classifier, sin embargo analizaremos a profundidad los resultados especificos de los demás, en este caso, tenemos un modelo sobrenetrenado, esto a todas luces se puede detectar cuando tenemos métricas de 1.00 en el training score vs valores .95 en el validación score. Claramente nuestro modelo ha aprendido de los datos de entrenamiento y lo ha memorizado. No queremos esto, queremos generalización, es decir, la adaptación correcta de nuestro modelo a datos no vistos anteriormente extraídos del holdout set.\n",
        "\n",
        "Así que en las próximas fases, deberemos realizar afinamiento de hiperparámetros y reducir la dimensionalidad de nuestra dataset incluyendo el análisis de PCA que realizamos entregamos pasadas.\n",
        "\n",
        "En tercer lugar observamos que tenemos un desbalance en la variable dependiente EscalaRiesgo para los valores A lo cual obligará realizar un balanceo de clases en la próxima entrega."
      ],
      "metadata": {
        "id": "bkmSnkTioGTG"
      }
    },
    {
      "cell_type": "markdown",
      "source": [
        "# Modelos Alternativos"
      ],
      "metadata": {
        "id": "nuoqUVVgUnxA"
      }
    },
    {
      "cell_type": "markdown",
      "metadata": {
        "id": "Aod6AM6QM7it"
      },
      "source": [
        "\n",
        "\n",
        "### Table of Contents\n",
        "1. [Preparación](##Preparación)\n",
        "2. [Comparativa](##Comparativa)\n",
        "3. [Ajuste Fino](##AjusteFino)\n",
        "\n",
        "Proyecto:\n",
        "\n",
        "*Modelo clasificador de multimorbilidad maternal y predictor de desenlaces perinatales a partir de datos clínicos metabólicos, genéticos y nutricionales de mujeres mexicanas*\n",
        "\n",
        "23 de mayo de 2024"
      ]
    },
    {
      "cell_type": "markdown",
      "metadata": {
        "id": "yMdtbPcvLN5E"
      },
      "source": [
        "##1. [Preparación](##Preparación)."
      ]
    },
    {
      "cell_type": "markdown",
      "metadata": {
        "id": "fBUwvY5DwR3q"
      },
      "source": [
        "### **1.1 Carga de Librerías**"
      ]
    },
    {
      "cell_type": "code",
      "execution_count": null,
      "metadata": {
        "id": "SDzqIuHxwTwd"
      },
      "outputs": [],
      "source": [
        "#%pip install imbalanced-learn\n",
        "#%pip install scikit-learn tensorflow\n",
        "#%pip install scikeras\n",
        "#%pip install --upgrade scikit-learn\n",
        "#%pip uninstall scikit-learn imbalanced-learn\n",
        "#%pip install scikit-learn==1.0.2 imbalanced-learn==0.8.1\n",
        "\n",
        "import pandas as pd\n",
        "import numpy as np\n",
        "import time\n",
        "from sklearn.model_selection import train_test_split, GridSearchCV\n",
        "from sklearn.metrics import accuracy_score, f1_score, classification_report, precision_recall_curve, auc, recall_score\n",
        "from sklearn.linear_model import LogisticRegression\n",
        "from sklearn.tree import DecisionTreeClassifier\n",
        "from sklearn.svm import SVC\n",
        "from sklearn.neighbors import KNeighborsClassifier\n",
        "from sklearn.naive_bayes import GaussianNB\n",
        "from sklearn.discriminant_analysis import LinearDiscriminantAnalysis\n",
        "from imblearn.over_sampling import SMOTE\n",
        "import tensorflow as tf\n",
        "from tensorflow.keras import layers, models, regularizers\n",
        "from sklearn.preprocessing import LabelEncoder\n"
      ]
    },
    {
      "cell_type": "markdown",
      "metadata": {
        "id": "x8Lu4uwdE5SA"
      },
      "source": [
        "### **1.2. Carga de datos**\n"
      ]
    },
    {
      "cell_type": "code",
      "execution_count": null,
      "metadata": {
        "colab": {
          "base_uri": "https://localhost:8080/",
          "height": 256
        },
        "id": "rJ75tgy5G_8N",
        "outputId": "8fa81ae2-45a3-4874-ab82-f415ef26f6b3"
      },
      "outputs": [
        {
          "data": {
            "text/html": [
              "<div>\n",
              "<style scoped>\n",
              "    .dataframe tbody tr th:only-of-type {\n",
              "        vertical-align: middle;\n",
              "    }\n",
              "\n",
              "    .dataframe tbody tr th {\n",
              "        vertical-align: top;\n",
              "    }\n",
              "\n",
              "    .dataframe thead th {\n",
              "        text-align: right;\n",
              "    }\n",
              "</style>\n",
              "<table border=\"1\" class=\"dataframe\">\n",
              "  <thead>\n",
              "    <tr style=\"text-align: right;\">\n",
              "      <th></th>\n",
              "      <th>EscalaRiesgo</th>\n",
              "      <th>biopsias</th>\n",
              "      <th>obs_h</th>\n",
              "      <th>ichos_pregesta</th>\n",
              "      <th>hta_pregesta</th>\n",
              "      <th>sop</th>\n",
              "      <th>hipotiroidismo</th>\n",
              "      <th>hipertiroidismo</th>\n",
              "      <th>consumo_alcohol</th>\n",
              "      <th>consumo_tabaco</th>\n",
              "      <th>...</th>\n",
              "      <th>sdg_parto</th>\n",
              "      <th>ant_aborto</th>\n",
              "      <th>macrosomia_rn_0</th>\n",
              "      <th>macrosomia_rn_0.0</th>\n",
              "      <th>macrosomia_rn_0/0</th>\n",
              "      <th>macrosomia_rn_1</th>\n",
              "      <th>macrosomia_rn_1.0</th>\n",
              "      <th>macrosomia_rn_1/0</th>\n",
              "      <th>macrosomia_rn_1/1</th>\n",
              "      <th>macrosomia_rn_2</th>\n",
              "    </tr>\n",
              "  </thead>\n",
              "  <tbody>\n",
              "    <tr>\n",
              "      <th>0</th>\n",
              "      <td>C</td>\n",
              "      <td>0</td>\n",
              "      <td>0</td>\n",
              "      <td>0</td>\n",
              "      <td>0</td>\n",
              "      <td>0</td>\n",
              "      <td>0</td>\n",
              "      <td>0</td>\n",
              "      <td>0</td>\n",
              "      <td>0</td>\n",
              "      <td>...</td>\n",
              "      <td>0.0</td>\n",
              "      <td>-0.747297</td>\n",
              "      <td>0</td>\n",
              "      <td>0</td>\n",
              "      <td>0</td>\n",
              "      <td>1</td>\n",
              "      <td>0</td>\n",
              "      <td>0</td>\n",
              "      <td>0</td>\n",
              "      <td>0</td>\n",
              "    </tr>\n",
              "    <tr>\n",
              "      <th>1</th>\n",
              "      <td>C</td>\n",
              "      <td>0</td>\n",
              "      <td>0</td>\n",
              "      <td>0</td>\n",
              "      <td>1</td>\n",
              "      <td>0</td>\n",
              "      <td>0</td>\n",
              "      <td>0</td>\n",
              "      <td>0</td>\n",
              "      <td>0</td>\n",
              "      <td>...</td>\n",
              "      <td>0.0</td>\n",
              "      <td>-0.747297</td>\n",
              "      <td>0</td>\n",
              "      <td>0</td>\n",
              "      <td>0</td>\n",
              "      <td>1</td>\n",
              "      <td>0</td>\n",
              "      <td>0</td>\n",
              "      <td>0</td>\n",
              "      <td>0</td>\n",
              "    </tr>\n",
              "    <tr>\n",
              "      <th>2</th>\n",
              "      <td>C</td>\n",
              "      <td>0</td>\n",
              "      <td>1</td>\n",
              "      <td>0</td>\n",
              "      <td>1</td>\n",
              "      <td>0</td>\n",
              "      <td>0</td>\n",
              "      <td>0</td>\n",
              "      <td>0</td>\n",
              "      <td>0</td>\n",
              "      <td>...</td>\n",
              "      <td>0.0</td>\n",
              "      <td>-0.747297</td>\n",
              "      <td>0</td>\n",
              "      <td>0</td>\n",
              "      <td>0</td>\n",
              "      <td>1</td>\n",
              "      <td>0</td>\n",
              "      <td>0</td>\n",
              "      <td>0</td>\n",
              "      <td>0</td>\n",
              "    </tr>\n",
              "    <tr>\n",
              "      <th>3</th>\n",
              "      <td>B</td>\n",
              "      <td>0</td>\n",
              "      <td>0</td>\n",
              "      <td>0</td>\n",
              "      <td>1</td>\n",
              "      <td>0</td>\n",
              "      <td>0</td>\n",
              "      <td>0</td>\n",
              "      <td>0</td>\n",
              "      <td>0</td>\n",
              "      <td>...</td>\n",
              "      <td>0.0</td>\n",
              "      <td>-0.747297</td>\n",
              "      <td>0</td>\n",
              "      <td>0</td>\n",
              "      <td>0</td>\n",
              "      <td>1</td>\n",
              "      <td>0</td>\n",
              "      <td>0</td>\n",
              "      <td>0</td>\n",
              "      <td>0</td>\n",
              "    </tr>\n",
              "    <tr>\n",
              "      <th>4</th>\n",
              "      <td>C</td>\n",
              "      <td>0</td>\n",
              "      <td>1</td>\n",
              "      <td>0</td>\n",
              "      <td>1</td>\n",
              "      <td>0</td>\n",
              "      <td>0</td>\n",
              "      <td>0</td>\n",
              "      <td>0</td>\n",
              "      <td>0</td>\n",
              "      <td>...</td>\n",
              "      <td>0.0</td>\n",
              "      <td>1.420203</td>\n",
              "      <td>0</td>\n",
              "      <td>0</td>\n",
              "      <td>0</td>\n",
              "      <td>1</td>\n",
              "      <td>0</td>\n",
              "      <td>0</td>\n",
              "      <td>0</td>\n",
              "      <td>0</td>\n",
              "    </tr>\n",
              "  </tbody>\n",
              "</table>\n",
              "<p>5 rows × 82 columns</p>\n",
              "</div>"
            ],
            "text/plain": [
              "  EscalaRiesgo  biopsias  obs_h  ichos_pregesta  hta_pregesta  sop  \\\n",
              "0            C         0      0               0             0    0   \n",
              "1            C         0      0               0             1    0   \n",
              "2            C         0      1               0             1    0   \n",
              "3            B         0      0               0             1    0   \n",
              "4            C         0      1               0             1    0   \n",
              "\n",
              "   hipotiroidismo  hipertiroidismo  consumo_alcohol  consumo_tabaco  ...  \\\n",
              "0               0                0                0               0  ...   \n",
              "1               0                0                0               0  ...   \n",
              "2               0                0                0               0  ...   \n",
              "3               0                0                0               0  ...   \n",
              "4               0                0                0               0  ...   \n",
              "\n",
              "   sdg_parto  ant_aborto  macrosomia_rn_0  macrosomia_rn_0.0  \\\n",
              "0        0.0   -0.747297                0                  0   \n",
              "1        0.0   -0.747297                0                  0   \n",
              "2        0.0   -0.747297                0                  0   \n",
              "3        0.0   -0.747297                0                  0   \n",
              "4        0.0    1.420203                0                  0   \n",
              "\n",
              "   macrosomia_rn_0/0  macrosomia_rn_1  macrosomia_rn_1.0  macrosomia_rn_1/0  \\\n",
              "0                  0                1                  0                  0   \n",
              "1                  0                1                  0                  0   \n",
              "2                  0                1                  0                  0   \n",
              "3                  0                1                  0                  0   \n",
              "4                  0                1                  0                  0   \n",
              "\n",
              "   macrosomia_rn_1/1  macrosomia_rn_2  \n",
              "0                  0                0  \n",
              "1                  0                0  \n",
              "2                  0                0  \n",
              "3                  0                0  \n",
              "4                  0                0  \n",
              "\n",
              "[5 rows x 82 columns]"
            ]
          },
          "execution_count": 3,
          "metadata": {},
          "output_type": "execute_result"
        }
      ],
      "source": [
        "file_path = r'data/data_limpia.csv'\n",
        "\n",
        "#Eliminamos columnas que no necesitaremos como identificarores y el número de clúster\n",
        "\n",
        "cols_to_remove = ['id_gdg', 'origen_px', 'IndexMorbilidad', 'anticonceptivo_0.0',\n",
        "       'anticonceptivo_0.6316526610644257', 'anticonceptivo_1.0',\n",
        "       'anticonceptivo_2.0', 'cluster']\n",
        "\n",
        "data = pd.read_csv(file_path, sep=\";\", encoding='utf-8', index_col=False)\n",
        "data  = data.drop(cols_to_remove , axis=1)\n",
        "\n",
        "data.head()"
      ]
    },
    {
      "cell_type": "code",
      "execution_count": null,
      "metadata": {
        "id": "37GVFqx0E_dp"
      },
      "outputs": [],
      "source": [
        "import pandas as pd\n",
        "from sklearn.model_selection import train_test_split\n",
        "\n",
        "X = data.drop('EscalaRiesgo', axis=1)\n",
        "y = data['EscalaRiesgo']"
      ]
    },
    {
      "cell_type": "markdown",
      "metadata": {
        "id": "e5XImi-VFL0_"
      },
      "source": [
        "### **1.3 Aplicar balanceo de clases via SMOTE**\n"
      ]
    },
    {
      "cell_type": "markdown",
      "metadata": {
        "id": "jNm_VXrLI6De"
      },
      "source": [
        "Esta técnica es recomendada cuando tenemos clases desbalanceadas. Nuestro problema tiene 3 clases:\n",
        "\n",
        "- A Para alto riesgo (la presencia de 3 o 4 factores multimorbilidad)\n",
        "- B Para medio riesgo (presencia de 1 o 2 factores multimorbilidad)\n",
        "- C Para riesgo nulo. (sin la presencia de factores de multimorbilidad)\n",
        "\n",
        "En temas de salud es importante tener clases balanceadas, esto nos permitirá tener los siguientes beneficios:\n",
        "\n",
        "- Mejora en la precisión del modelo; en este sentido, detectar una clase **A** con alto riesgo de morbilidad es crucial para que el modelo entregue valor al área médica.\n",
        "\n",
        "- Equidad en la atención médico. Debemos aseguramos que nuestro modelo sea justo y equitativo sobre todo en temas de salud. Un desbalance puede provocar sesgos y lecturas erróneas.\n",
        "\n",
        "- Generalización. Un modelo con clases balanceadas generalizará mejor cuando trate nuevos datos. En el dominio de conocimiento de salud humana, esto es relevante."
      ]
    },
    {
      "cell_type": "markdown",
      "metadata": {
        "id": "rMVI1KSnwULF"
      },
      "source": [
        "## 2. [Comparativa](##Comparativa)"
      ]
    },
    {
      "cell_type": "markdown",
      "metadata": {
        "id": "GZAk_tQxT_MO"
      },
      "source": [
        "### Evaluación con TensorFlow"
      ]
    },
    {
      "cell_type": "markdown",
      "metadata": {
        "id": "AmI0G1Qj0_6O"
      },
      "source": [
        "Es necesario aplicar un LabelEncoder para la variable dependiente ya que es categórica y de tipo string en este momento."
      ]
    },
    {
      "cell_type": "code",
      "execution_count": null,
      "metadata": {
        "id": "BDbFxYu30_6P",
        "outputId": "edfdb41f-931d-422e-9a1a-d079a37d218c"
      },
      "outputs": [
        {
          "name": "stdout",
          "output_type": "stream",
          "text": [
            "y Original\n",
            " 0    C\n",
            "1    C\n",
            "2    C\n",
            "3    B\n",
            "4    C\n",
            "Name: EscalaRiesgo, dtype: object\n",
            "y Encoded\n",
            "    0\n",
            "0  2\n",
            "1  2\n",
            "2  2\n",
            "3  1\n",
            "4  2\n"
          ]
        }
      ],
      "source": [
        "label_encoder = LabelEncoder()\n",
        "\n",
        "y_encoded = pd.DataFrame(label_encoder.fit_transform(y))\n",
        "\n",
        "print(\"y Original\\n\", y.head(5))\n",
        "print(\"y Encoded\\n\", y_encoded.head(5))"
      ]
    },
    {
      "cell_type": "markdown",
      "metadata": {
        "id": "P9ufANFZ0_6P"
      },
      "source": [
        "### Definir CNN\n",
        "\n",
        "La red neuronal tendrá dos capas ocultas, cada una seguida de una Dropout layer para prevenir overfitting, lo cual es clave por la cantidad limitada de datos con los que se cuenta. Por esta razón, se utiliza regularización L2.\n",
        "\n",
        "Debido a que la variable dependiente es multi-clase, es necesario agregar una capa de salida de 4 unidades con una activación softmax que es la recomendada al hacer clasificaciones de este tipo."
      ]
    },
    {
      "cell_type": "code",
      "execution_count": null,
      "metadata": {
        "id": "_uXJppIs0_6Q",
        "outputId": "a1fac65b-8865-401b-a4b6-4b26dacc5262"
      },
      "outputs": [
        {
          "name": "stderr",
          "output_type": "stream",
          "text": [
            "/home/deck/Documents/School/Proyecto Integrador/Repositorio/MNA_ProyectoIntegrador-Equipo7/.venv/lib/python3.11/site-packages/keras/src/layers/core/dense.py:87: UserWarning: Do not pass an `input_shape`/`input_dim` argument to a layer. When using Sequential models, prefer using an `Input(shape)` object as the first layer in the model instead.\n",
            "  super().__init__(activity_regularizer=activity_regularizer, **kwargs)\n"
          ]
        }
      ],
      "source": [
        "X_train, X_test, y_train, y_test = train_test_split(X, y_encoded, test_size=0.2, random_state=42)\n",
        "smote = SMOTE(random_state=42)\n",
        "X_train_smote, y_train_smote = smote.fit_resample(X_train, y_train)\n",
        "\n",
        "model = models.Sequential([\n",
        "    layers.Dense(64, activation='relu', input_shape=(X_train.shape[1],),\n",
        "                 kernel_regularizer=regularizers.l2(0.001)),\n",
        "    layers.Dropout(0.5),\n",
        "    layers.Dense(32, activation='relu', kernel_regularizer=regularizers.l2(0.001)),\n",
        "    layers.Dropout(0.5),\n",
        "    layers.Dense(4, activation='softmax')\n",
        "])\n",
        "\n",
        "model.compile(\n",
        "    optimizer='adam',\n",
        "    loss='sparse_categorical_crossentropy',\n",
        "    metrics=['accuracy']\n",
        ")\n"
      ]
    },
    {
      "cell_type": "markdown",
      "metadata": {
        "id": "N4wHkkop0_6Q"
      },
      "source": [
        "### Entrenar modelo y hacer predicciones"
      ]
    },
    {
      "cell_type": "code",
      "execution_count": null,
      "metadata": {
        "id": "xMi5mK1c0_6Q",
        "outputId": "2f09f0bc-99c4-4073-af63-7b2100b52005"
      },
      "outputs": [
        {
          "name": "stdout",
          "output_type": "stream",
          "text": [
            "Epoch 1/50\n",
            "\u001b[1m56/56\u001b[0m \u001b[32m━━━━━━━━━━━━━━━━━━━━\u001b[0m\u001b[37m\u001b[0m \u001b[1m0s\u001b[0m 5ms/step - accuracy: 0.9912 - loss: 0.1061 - val_accuracy: 0.7188 - val_loss: 1.6070\n",
            "Epoch 2/50\n",
            "\u001b[1m56/56\u001b[0m \u001b[32m━━━━━━━━━━━━━━━━━━━━\u001b[0m\u001b[37m\u001b[0m \u001b[1m0s\u001b[0m 3ms/step - accuracy: 0.9859 - loss: 0.1195 - val_accuracy: 0.7143 - val_loss: 1.7468\n",
            "Epoch 3/50\n",
            "\u001b[1m56/56\u001b[0m \u001b[32m━━━━━━━━━━━━━━━━━━━━\u001b[0m\u001b[37m\u001b[0m \u001b[1m0s\u001b[0m 3ms/step - accuracy: 0.9901 - loss: 0.1040 - val_accuracy: 0.7188 - val_loss: 1.6864\n",
            "Epoch 4/50\n",
            "\u001b[1m56/56\u001b[0m \u001b[32m━━━━━━━━━━━━━━━━━━━━\u001b[0m\u001b[37m\u001b[0m \u001b[1m0s\u001b[0m 2ms/step - accuracy: 0.9856 - loss: 0.1209 - val_accuracy: 0.7188 - val_loss: 1.6385\n",
            "Epoch 5/50\n",
            "\u001b[1m56/56\u001b[0m \u001b[32m━━━━━━━━━━━━━━━━━━━━\u001b[0m\u001b[37m\u001b[0m \u001b[1m0s\u001b[0m 2ms/step - accuracy: 0.9880 - loss: 0.1129 - val_accuracy: 0.7188 - val_loss: 1.6140\n",
            "Epoch 6/50\n",
            "\u001b[1m56/56\u001b[0m \u001b[32m━━━━━━━━━━━━━━━━━━━━\u001b[0m\u001b[37m\u001b[0m \u001b[1m0s\u001b[0m 2ms/step - accuracy: 0.9942 - loss: 0.0999 - val_accuracy: 0.7234 - val_loss: 1.6932\n",
            "Epoch 7/50\n",
            "\u001b[1m56/56\u001b[0m \u001b[32m━━━━━━━━━━━━━━━━━━━━\u001b[0m\u001b[37m\u001b[0m \u001b[1m0s\u001b[0m 3ms/step - accuracy: 0.9866 - loss: 0.1198 - val_accuracy: 0.7256 - val_loss: 1.6499\n",
            "Epoch 8/50\n",
            "\u001b[1m56/56\u001b[0m \u001b[32m━━━━━━━━━━━━━━━━━━━━\u001b[0m\u001b[37m\u001b[0m \u001b[1m0s\u001b[0m 2ms/step - accuracy: 0.9929 - loss: 0.0985 - val_accuracy: 0.7143 - val_loss: 1.8156\n",
            "Epoch 9/50\n",
            "\u001b[1m56/56\u001b[0m \u001b[32m━━━━━━━━━━━━━━━━━━━━\u001b[0m\u001b[37m\u001b[0m \u001b[1m0s\u001b[0m 2ms/step - accuracy: 0.9948 - loss: 0.0910 - val_accuracy: 0.7143 - val_loss: 1.7736\n",
            "Epoch 10/50\n",
            "\u001b[1m56/56\u001b[0m \u001b[32m━━━━━━━━━━━━━━━━━━━━\u001b[0m\u001b[37m\u001b[0m \u001b[1m0s\u001b[0m 2ms/step - accuracy: 0.9908 - loss: 0.1014 - val_accuracy: 0.7075 - val_loss: 1.7153\n",
            "Epoch 11/50\n",
            "\u001b[1m56/56\u001b[0m \u001b[32m━━━━━━━━━━━━━━━━━━━━\u001b[0m\u001b[37m\u001b[0m \u001b[1m0s\u001b[0m 2ms/step - accuracy: 0.9946 - loss: 0.0932 - val_accuracy: 0.7188 - val_loss: 1.8864\n",
            "Epoch 12/50\n",
            "\u001b[1m56/56\u001b[0m \u001b[32m━━━━━━━━━━━━━━━━━━━━\u001b[0m\u001b[37m\u001b[0m \u001b[1m0s\u001b[0m 2ms/step - accuracy: 0.9865 - loss: 0.1048 - val_accuracy: 0.7075 - val_loss: 1.7560\n",
            "Epoch 13/50\n",
            "\u001b[1m56/56\u001b[0m \u001b[32m━━━━━━━━━━━━━━━━━━━━\u001b[0m\u001b[37m\u001b[0m \u001b[1m0s\u001b[0m 2ms/step - accuracy: 0.9958 - loss: 0.0913 - val_accuracy: 0.7143 - val_loss: 1.7788\n",
            "Epoch 14/50\n",
            "\u001b[1m56/56\u001b[0m \u001b[32m━━━━━━━━━━━━━━━━━━━━\u001b[0m\u001b[37m\u001b[0m \u001b[1m0s\u001b[0m 2ms/step - accuracy: 0.9820 - loss: 0.1109 - val_accuracy: 0.7120 - val_loss: 1.7624\n",
            "Epoch 15/50\n",
            "\u001b[1m56/56\u001b[0m \u001b[32m━━━━━━━━━━━━━━━━━━━━\u001b[0m\u001b[37m\u001b[0m \u001b[1m0s\u001b[0m 2ms/step - accuracy: 0.9894 - loss: 0.1007 - val_accuracy: 0.7188 - val_loss: 1.8772\n",
            "Epoch 16/50\n",
            "\u001b[1m56/56\u001b[0m \u001b[32m━━━━━━━━━━━━━━━━━━━━\u001b[0m\u001b[37m\u001b[0m \u001b[1m0s\u001b[0m 2ms/step - accuracy: 0.9903 - loss: 0.0954 - val_accuracy: 0.7188 - val_loss: 1.8675\n",
            "Epoch 17/50\n",
            "\u001b[1m56/56\u001b[0m \u001b[32m━━━━━━━━━━━━━━━━━━━━\u001b[0m\u001b[37m\u001b[0m \u001b[1m0s\u001b[0m 2ms/step - accuracy: 0.9906 - loss: 0.0934 - val_accuracy: 0.7143 - val_loss: 1.6727\n",
            "Epoch 18/50\n",
            "\u001b[1m56/56\u001b[0m \u001b[32m━━━━━━━━━━━━━━━━━━━━\u001b[0m\u001b[37m\u001b[0m \u001b[1m0s\u001b[0m 2ms/step - accuracy: 0.9922 - loss: 0.0916 - val_accuracy: 0.7166 - val_loss: 1.8806\n",
            "Epoch 19/50\n",
            "\u001b[1m56/56\u001b[0m \u001b[32m━━━━━━━━━━━━━━━━━━━━\u001b[0m\u001b[37m\u001b[0m \u001b[1m0s\u001b[0m 2ms/step - accuracy: 0.9893 - loss: 0.0967 - val_accuracy: 0.7143 - val_loss: 1.7847\n",
            "Epoch 20/50\n",
            "\u001b[1m56/56\u001b[0m \u001b[32m━━━━━━━━━━━━━━━━━━━━\u001b[0m\u001b[37m\u001b[0m \u001b[1m0s\u001b[0m 2ms/step - accuracy: 0.9944 - loss: 0.1017 - val_accuracy: 0.7166 - val_loss: 1.9731\n",
            "Epoch 21/50\n",
            "\u001b[1m56/56\u001b[0m \u001b[32m━━━━━━━━━━━━━━━━━━━━\u001b[0m\u001b[37m\u001b[0m \u001b[1m0s\u001b[0m 2ms/step - accuracy: 0.9958 - loss: 0.0834 - val_accuracy: 0.7120 - val_loss: 1.8485\n",
            "Epoch 22/50\n",
            "\u001b[1m56/56\u001b[0m \u001b[32m━━━━━━━━━━━━━━━━━━━━\u001b[0m\u001b[37m\u001b[0m \u001b[1m0s\u001b[0m 2ms/step - accuracy: 0.9936 - loss: 0.0882 - val_accuracy: 0.7166 - val_loss: 2.0230\n",
            "Epoch 23/50\n",
            "\u001b[1m56/56\u001b[0m \u001b[32m━━━━━━━━━━━━━━━━━━━━\u001b[0m\u001b[37m\u001b[0m \u001b[1m0s\u001b[0m 2ms/step - accuracy: 0.9888 - loss: 0.0889 - val_accuracy: 0.7143 - val_loss: 1.7923\n",
            "Epoch 24/50\n",
            "\u001b[1m56/56\u001b[0m \u001b[32m━━━━━━━━━━━━━━━━━━━━\u001b[0m\u001b[37m\u001b[0m \u001b[1m0s\u001b[0m 2ms/step - accuracy: 0.9945 - loss: 0.0858 - val_accuracy: 0.7143 - val_loss: 2.0101\n",
            "Epoch 25/50\n",
            "\u001b[1m56/56\u001b[0m \u001b[32m━━━━━━━━━━━━━━━━━━━━\u001b[0m\u001b[37m\u001b[0m \u001b[1m0s\u001b[0m 2ms/step - accuracy: 0.9862 - loss: 0.1098 - val_accuracy: 0.7166 - val_loss: 1.8741\n",
            "Epoch 26/50\n",
            "\u001b[1m56/56\u001b[0m \u001b[32m━━━━━━━━━━━━━━━━━━━━\u001b[0m\u001b[37m\u001b[0m \u001b[1m0s\u001b[0m 3ms/step - accuracy: 0.9922 - loss: 0.0872 - val_accuracy: 0.7120 - val_loss: 1.7955\n",
            "Epoch 27/50\n",
            "\u001b[1m56/56\u001b[0m \u001b[32m━━━━━━━━━━━━━━━━━━━━\u001b[0m\u001b[37m\u001b[0m \u001b[1m0s\u001b[0m 2ms/step - accuracy: 0.9945 - loss: 0.0832 - val_accuracy: 0.7143 - val_loss: 1.9152\n",
            "Epoch 28/50\n",
            "\u001b[1m56/56\u001b[0m \u001b[32m━━━━━━━━━━━━━━━━━━━━\u001b[0m\u001b[37m\u001b[0m \u001b[1m0s\u001b[0m 2ms/step - accuracy: 0.9951 - loss: 0.0844 - val_accuracy: 0.7143 - val_loss: 2.0184\n",
            "Epoch 29/50\n",
            "\u001b[1m56/56\u001b[0m \u001b[32m━━━━━━━━━━━━━━━━━━━━\u001b[0m\u001b[37m\u001b[0m \u001b[1m0s\u001b[0m 2ms/step - accuracy: 0.9891 - loss: 0.0891 - val_accuracy: 0.7143 - val_loss: 1.8273\n",
            "Epoch 30/50\n",
            "\u001b[1m56/56\u001b[0m \u001b[32m━━━━━━━━━━━━━━━━━━━━\u001b[0m\u001b[37m\u001b[0m \u001b[1m0s\u001b[0m 3ms/step - accuracy: 0.9938 - loss: 0.0861 - val_accuracy: 0.7143 - val_loss: 2.0780\n",
            "Epoch 31/50\n",
            "\u001b[1m56/56\u001b[0m \u001b[32m━━━━━━━━━━━━━━━━━━━━\u001b[0m\u001b[37m\u001b[0m \u001b[1m0s\u001b[0m 2ms/step - accuracy: 0.9939 - loss: 0.0841 - val_accuracy: 0.7120 - val_loss: 1.8622\n",
            "Epoch 32/50\n",
            "\u001b[1m56/56\u001b[0m \u001b[32m━━━━━━━━━━━━━━━━━━━━\u001b[0m\u001b[37m\u001b[0m \u001b[1m0s\u001b[0m 2ms/step - accuracy: 0.9946 - loss: 0.0816 - val_accuracy: 0.7120 - val_loss: 1.9023\n",
            "Epoch 33/50\n",
            "\u001b[1m56/56\u001b[0m \u001b[32m━━━━━━━━━━━━━━━━━━━━\u001b[0m\u001b[37m\u001b[0m \u001b[1m0s\u001b[0m 2ms/step - accuracy: 0.9945 - loss: 0.0746 - val_accuracy: 0.7188 - val_loss: 1.8799\n",
            "Epoch 34/50\n",
            "\u001b[1m56/56\u001b[0m \u001b[32m━━━━━━━━━━━━━━━━━━━━\u001b[0m\u001b[37m\u001b[0m \u001b[1m0s\u001b[0m 2ms/step - accuracy: 0.9950 - loss: 0.0783 - val_accuracy: 0.7120 - val_loss: 1.9632\n",
            "Epoch 35/50\n",
            "\u001b[1m56/56\u001b[0m \u001b[32m━━━━━━━━━━━━━━━━━━━━\u001b[0m\u001b[37m\u001b[0m \u001b[1m0s\u001b[0m 2ms/step - accuracy: 0.9956 - loss: 0.0781 - val_accuracy: 0.7166 - val_loss: 1.9960\n",
            "Epoch 36/50\n",
            "\u001b[1m56/56\u001b[0m \u001b[32m━━━━━━━━━━━━━━━━━━━━\u001b[0m\u001b[37m\u001b[0m \u001b[1m0s\u001b[0m 2ms/step - accuracy: 0.9929 - loss: 0.0776 - val_accuracy: 0.7120 - val_loss: 2.1431\n",
            "Epoch 37/50\n",
            "\u001b[1m56/56\u001b[0m \u001b[32m━━━━━━━━━━━━━━━━━━━━\u001b[0m\u001b[37m\u001b[0m \u001b[1m0s\u001b[0m 2ms/step - accuracy: 0.9943 - loss: 0.0780 - val_accuracy: 0.7120 - val_loss: 2.0274\n",
            "Epoch 38/50\n",
            "\u001b[1m56/56\u001b[0m \u001b[32m━━━━━━━━━━━━━━━━━━━━\u001b[0m\u001b[37m\u001b[0m \u001b[1m0s\u001b[0m 2ms/step - accuracy: 0.9946 - loss: 0.0746 - val_accuracy: 0.7143 - val_loss: 2.0759\n",
            "Epoch 39/50\n",
            "\u001b[1m56/56\u001b[0m \u001b[32m━━━━━━━━━━━━━━━━━━━━\u001b[0m\u001b[37m\u001b[0m \u001b[1m0s\u001b[0m 2ms/step - accuracy: 0.9952 - loss: 0.0733 - val_accuracy: 0.7234 - val_loss: 1.9889\n",
            "Epoch 40/50\n",
            "\u001b[1m56/56\u001b[0m \u001b[32m━━━━━━━━━━━━━━━━━━━━\u001b[0m\u001b[37m\u001b[0m \u001b[1m0s\u001b[0m 2ms/step - accuracy: 0.9950 - loss: 0.0768 - val_accuracy: 0.7166 - val_loss: 1.7819\n",
            "Epoch 41/50\n",
            "\u001b[1m56/56\u001b[0m \u001b[32m━━━━━━━━━━━━━━━━━━━━\u001b[0m\u001b[37m\u001b[0m \u001b[1m0s\u001b[0m 2ms/step - accuracy: 0.9890 - loss: 0.0837 - val_accuracy: 0.7188 - val_loss: 1.9365\n",
            "Epoch 42/50\n",
            "\u001b[1m56/56\u001b[0m \u001b[32m━━━━━━━━━━━━━━━━━━━━\u001b[0m\u001b[37m\u001b[0m \u001b[1m0s\u001b[0m 3ms/step - accuracy: 0.9909 - loss: 0.0780 - val_accuracy: 0.7211 - val_loss: 2.0807\n",
            "Epoch 43/50\n",
            "\u001b[1m56/56\u001b[0m \u001b[32m━━━━━━━━━━━━━━━━━━━━\u001b[0m\u001b[37m\u001b[0m \u001b[1m0s\u001b[0m 2ms/step - accuracy: 0.9939 - loss: 0.0741 - val_accuracy: 0.7234 - val_loss: 1.8035\n",
            "Epoch 44/50\n",
            "\u001b[1m56/56\u001b[0m \u001b[32m━━━━━━━━━━━━━━━━━━━━\u001b[0m\u001b[37m\u001b[0m \u001b[1m0s\u001b[0m 2ms/step - accuracy: 0.9961 - loss: 0.0725 - val_accuracy: 0.7166 - val_loss: 2.0323\n",
            "Epoch 45/50\n",
            "\u001b[1m56/56\u001b[0m \u001b[32m━━━━━━━━━━━━━━━━━━━━\u001b[0m\u001b[37m\u001b[0m \u001b[1m0s\u001b[0m 2ms/step - accuracy: 0.9959 - loss: 0.0713 - val_accuracy: 0.7143 - val_loss: 2.1977\n",
            "Epoch 46/50\n",
            "\u001b[1m56/56\u001b[0m \u001b[32m━━━━━━━━━━━━━━━━━━━━\u001b[0m\u001b[37m\u001b[0m \u001b[1m0s\u001b[0m 2ms/step - accuracy: 0.9963 - loss: 0.0723 - val_accuracy: 0.7234 - val_loss: 1.9528\n",
            "Epoch 47/50\n",
            "\u001b[1m56/56\u001b[0m \u001b[32m━━━━━━━━━━━━━━━━━━━━\u001b[0m\u001b[37m\u001b[0m \u001b[1m0s\u001b[0m 2ms/step - accuracy: 0.9907 - loss: 0.0786 - val_accuracy: 0.7120 - val_loss: 2.1349\n",
            "Epoch 48/50\n",
            "\u001b[1m56/56\u001b[0m \u001b[32m━━━━━━━━━━━━━━━━━━━━\u001b[0m\u001b[37m\u001b[0m \u001b[1m0s\u001b[0m 2ms/step - accuracy: 0.9888 - loss: 0.0850 - val_accuracy: 0.7166 - val_loss: 2.0477\n",
            "Epoch 49/50\n",
            "\u001b[1m56/56\u001b[0m \u001b[32m━━━━━━━━━━━━━━━━━━━━\u001b[0m\u001b[37m\u001b[0m \u001b[1m0s\u001b[0m 2ms/step - accuracy: 0.9964 - loss: 0.0664 - val_accuracy: 0.7211 - val_loss: 2.2520\n",
            "Epoch 50/50\n",
            "\u001b[1m56/56\u001b[0m \u001b[32m━━━━━━━━━━━━━━━━━━━━\u001b[0m\u001b[37m\u001b[0m \u001b[1m0s\u001b[0m 2ms/step - accuracy: 0.9977 - loss: 0.0632 - val_accuracy: 0.7211 - val_loss: 2.0885\n",
            "9/9 - 0s - 3ms/step - accuracy: 0.9891 - loss: 0.1305\n",
            "\n",
            "Test accuracy: 0.989051103591919\n",
            "\u001b[1m9/9\u001b[0m \u001b[32m━━━━━━━━━━━━━━━━━━━━\u001b[0m\u001b[37m\u001b[0m \u001b[1m0s\u001b[0m 1ms/step \n"
          ]
        }
      ],
      "source": [
        "\n",
        "history = model.fit(X_train_smote, y_train_smote, epochs=50, batch_size=32, validation_split=0.2, verbose=1)\n",
        "\n",
        "test_loss, test_acc = model.evaluate(X_test, y_test, verbose=2)\n",
        "print(f\"\\nTest accuracy: {test_acc}\")\n",
        "\n",
        "y_pred_prob = model.predict(X_test)\n",
        "y_pred = np.argmax(y_pred_prob, axis=1)\n"
      ]
    },
    {
      "cell_type": "markdown",
      "metadata": {
        "id": "r8mXRbvn0_6R"
      },
      "source": [
        "### Calcular métricos"
      ]
    },
    {
      "cell_type": "code",
      "execution_count": null,
      "metadata": {
        "id": "4ey5T3ON0_6R",
        "outputId": "20bdbfb8-d474-4d00-abe3-7a39ddf639b0"
      },
      "outputs": [
        {
          "name": "stdout",
          "output_type": "stream",
          "text": [
            "Recall: 0.9890510948905109\n",
            "Precision-Recall AUC: 0.968974344837061\n",
            "F1 Score: 0.9879845694187057\n",
            "              precision    recall  f1-score   support\n",
            "\n",
            "           0       0.50      0.33      0.40         3\n",
            "           1       0.98      0.99      0.98        96\n",
            "           2       1.00      1.00      1.00       175\n",
            "\n",
            "    accuracy                           0.99       274\n",
            "   macro avg       0.83      0.77      0.79       274\n",
            "weighted avg       0.99      0.99      0.99       274\n",
            "\n"
          ]
        }
      ],
      "source": [
        "\n",
        "recall = recall_score(y_test, y_pred, average='weighted')\n",
        "print(f\"Recall: {recall}\")\n",
        "\n",
        "precision, recall, thresholds = precision_recall_curve(y_test, y_pred_prob[:, 1], pos_label=1)  # Adjust for the class of interest\n",
        "pr_auc = auc(recall, precision)\n",
        "print(f\"Precision-Recall AUC: {pr_auc}\")\n",
        "\n",
        "f1 = f1_score(y_test, y_pred, average='weighted')\n",
        "print(f\"F1 Score: {f1}\")\n",
        "\n",
        "# Print classification report\n",
        "print(classification_report(y_test, y_pred))"
      ]
    },
    {
      "cell_type": "markdown",
      "metadata": {
        "id": "vWtUQG1Q0_6R"
      },
      "source": [
        "### Evaluación con Algoritmos de scikit-learn"
      ]
    },
    {
      "cell_type": "code",
      "execution_count": null,
      "metadata": {
        "id": "pNMRHGcsO_rG"
      },
      "outputs": [],
      "source": [
        "def train_and_evaluate_algorithms(X, y):\n",
        "    # Split the data into training and test sets\n",
        "    X_train, X_test, y_train, y_test = train_test_split(X, y, test_size=0.3, random_state=42)\n",
        "\n",
        "    # Apply SMOTE to balance the classes\n",
        "    smote = SMOTE(random_state=42)\n",
        "    X_train_balanced, y_train_balanced = smote.fit_resample(X_train, y_train)\n",
        "\n",
        "    # Check the class distribution\n",
        "    print(\"Original class distribution:\")\n",
        "    print(y_train.value_counts())\n",
        "    print(\"\\nBalanced class distribution:\")\n",
        "    print(y_train_balanced.value_counts())\n",
        "\n",
        "    # Define the models to be used\n",
        "    models = {\n",
        "        'Logistic Regression': LogisticRegression(max_iter=1000, multi_class='multinomial', solver='lbfgs'),\n",
        "        'Decision Tree': DecisionTreeClassifier(),\n",
        "        'Support Vector Classifier': SVC(),\n",
        "        'K-Nearest Neighbors': KNeighborsClassifier(),\n",
        "        'Naive Bayes': GaussianNB(),\n",
        "        'Linear Discriminant Analysis': LinearDiscriminantAnalysis()\n",
        "    }\n",
        "\n",
        "    # Initialize a list to store the results\n",
        "    results = []\n",
        "\n",
        "    # Train and evaluate each model\n",
        "    for name, model in models.items():\n",
        "        start_time = time.time()\n",
        "        model.fit(X_train_balanced, y_train_balanced)\n",
        "        training_time = time.time() - start_time\n",
        "\n",
        "        # Make predictions\n",
        "        y_pred = model.predict(X_test)\n",
        "\n",
        "        # Calculate performance metrics\n",
        "        accuracy = accuracy_score(y_test, y_pred)\n",
        "        f1 = f1_score(y_test, y_pred, average='weighted')\n",
        "\n",
        "        # Append the results\n",
        "        results.append({\n",
        "            'Model': name,\n",
        "            'Accuracy': accuracy,\n",
        "            'F1 Score': f1,\n",
        "            'Training Time (s)': training_time\n",
        "        })\n",
        "\n",
        "    # Convert results to a DataFrame and display\n",
        "    results_df = pd.DataFrame(results)\n",
        "    print(results_df)"
      ]
    },
    {
      "cell_type": "code",
      "execution_count": null,
      "metadata": {
        "colab": {
          "base_uri": "https://localhost:8080/"
        },
        "id": "VGWuOPaHPFS7",
        "outputId": "4c9f12b5-cc22-4216-f772-3dedc7e5bc9d"
      },
      "outputs": [
        {
          "name": "stdout",
          "output_type": "stream",
          "text": [
            "Original class distribution:\n",
            "EscalaRiesgo\n",
            "C    645\n",
            "B    305\n",
            "A      9\n",
            "Name: count, dtype: int64\n",
            "\n",
            "Balanced class distribution:\n",
            "EscalaRiesgo\n",
            "C    645\n",
            "B    645\n",
            "A    645\n",
            "Name: count, dtype: int64\n",
            "                          Model  Accuracy  F1 Score  Training Time (s)\n",
            "0           Logistic Regression  0.963504  0.964074           0.386540\n",
            "1                 Decision Tree  0.936740  0.935397           0.083869\n",
            "2     Support Vector Classifier  0.861314  0.856127           0.136673\n",
            "3           K-Nearest Neighbors  0.664234  0.674319           0.006041\n",
            "4                   Naive Bayes  0.953771  0.962749           0.017494\n",
            "5  Linear Discriminant Analysis  0.956204  0.956470           0.067245\n"
          ]
        }
      ],
      "source": [
        "target_column = 'EscalaRiesgo'\n",
        "\n",
        "train_and_evaluate_algorithms(X, y)\n"
      ]
    },
    {
      "cell_type": "markdown",
      "metadata": {
        "id": "UBCZXA21nxjN"
      },
      "source": [
        "## 3. [Ajuste Fino](##AjusteFino)"
      ]
    },
    {
      "cell_type": "markdown",
      "metadata": {
        "id": "PxQBYeCa5LRd"
      },
      "source": [
        "De acuerdo a la métrica F1 Score, los 2 mejores modelos son:\n",
        "- Logistic Regression\n",
        "- Nayve Bayes\n",
        "\n",
        "Con base en estos dos modelos, realizaremos el afinamiento de hiperparámetros. Definimos una función que realizará el afinamiento de hiperparámetros con base a los 2 modelos elegidos."
      ]
    },
    {
      "cell_type": "code",
      "execution_count": null,
      "metadata": {
        "id": "-WHGJy6o4oF4"
      },
      "outputs": [],
      "source": [
        "def train_and_evaluate_algorithms(X, y):\n",
        "    # Split the data into training and test sets\n",
        "    X_train, X_test, y_train, y_test = train_test_split(X, y, test_size=0.3, random_state=42)\n",
        "\n",
        "    # Apply SMOTE to balance the classes\n",
        "    smote = SMOTE(random_state=42)\n",
        "    X_train_balanced, y_train_balanced = smote.fit_resample(X_train, y_train)\n",
        "\n",
        "    # Check the class distribution\n",
        "    print(\"Original class distribution:\")\n",
        "    print(y_train.value_counts())\n",
        "    print(\"\\nBalanced class distribution:\")\n",
        "    print(y_train_balanced.value_counts())\n",
        "\n",
        "    # Define the models to be used\n",
        "    models = {\n",
        "        'Logistic Regression': LogisticRegression(max_iter=1000, multi_class='multinomial', solver='lbfgs'),\n",
        "        'Naive Bayes': GaussianNB(),\n",
        "    }\n",
        "\n",
        "    # Initialize a list to store the results\n",
        "    results = []\n",
        "\n",
        "    # Train and evaluate each model\n",
        "    for name, model in models.items():\n",
        "        start_time = time.time()\n",
        "        model.fit(X_train_balanced, y_train_balanced)\n",
        "        training_time = time.time() - start_time\n",
        "\n",
        "        # Make predictions\n",
        "        y_pred = model.predict(X_test)\n",
        "\n",
        "        # Calculate performance metrics\n",
        "        accuracy = accuracy_score(y_test, y_pred)\n",
        "        f1 = f1_score(y_test, y_pred, average='weighted')\n",
        "\n",
        "        # Append the results\n",
        "        results.append({\n",
        "            'Model': name,\n",
        "            'Accuracy': accuracy,\n",
        "            'F1 Score': f1,\n",
        "            'Training Time (s)': training_time\n",
        "        })\n",
        "\n",
        "    # Hyperparameter tuning for Logistic Regression\n",
        "    log_reg = LogisticRegression(max_iter=1000, multi_class='multinomial', solver='lbfgs')\n",
        "    log_reg_params = {\n",
        "        'C': [0.1, 1, 10, 100],\n",
        "        'solver': ['newton-cg', 'lbfgs', 'saga']\n",
        "    }\n",
        "    log_reg_grid = GridSearchCV(log_reg, log_reg_params, cv=5, scoring='f1_weighted')\n",
        "    start_time = time.time()\n",
        "    log_reg_grid.fit(X_train_balanced, y_train_balanced)\n",
        "    training_time = time.time() - start_time\n",
        "    log_reg_best = log_reg_grid.best_estimator_\n",
        "\n",
        "    # Make predictions\n",
        "    y_pred = log_reg_best.predict(X_test)\n",
        "\n",
        "    # Calculate performance metrics\n",
        "    accuracy = accuracy_score(y_test, y_pred)\n",
        "    f1 = f1_score(y_test, y_pred, average='weighted')\n",
        "\n",
        "    # Append the results\n",
        "    results.append({\n",
        "        'Model': 'Logistic Regression (Tuned)',\n",
        "        'Accuracy': accuracy,\n",
        "        'F1 Score': f1,\n",
        "        'Training Time (s)': training_time\n",
        "    })\n",
        "\n",
        "    # Hyperparameter tuning for Naive Bayes (Gaussian)\n",
        "    naive_bayes = GaussianNB()\n",
        "    nb_params = {\n",
        "        'var_smoothing': [1e-09, 1e-08, 1e-07, 1e-06, 1e-05]\n",
        "    }\n",
        "    nb_grid = GridSearchCV(naive_bayes, nb_params, cv=5, scoring='f1_weighted')\n",
        "    start_time = time.time()\n",
        "    nb_grid.fit(X_train_balanced, y_train_balanced)\n",
        "    training_time = time.time() - start_time\n",
        "    nb_best = nb_grid.best_estimator_\n",
        "\n",
        "    # Make predictions\n",
        "    y_pred = nb_best.predict(X_test)\n",
        "\n",
        "    # Calculate performance metrics\n",
        "    accuracy = accuracy_score(y_test, y_pred)\n",
        "    f1 = f1_score(y_test, y_pred, average='weighted')\n",
        "\n",
        "    # Append the results\n",
        "    results.append({\n",
        "        'Model': 'Naive Bayes (Tuned)',\n",
        "        'Accuracy': accuracy,\n",
        "        'F1 Score': f1,\n",
        "        'Training Time (s)': training_time\n",
        "    })\n",
        "\n",
        "    # Convert results to a DataFrame and display\n",
        "    results_df = pd.DataFrame(results)\n",
        "    print(results_df)"
      ]
    },
    {
      "cell_type": "code",
      "execution_count": null,
      "metadata": {
        "colab": {
          "base_uri": "https://localhost:8080/"
        },
        "id": "8oxQEgMK7Eio",
        "outputId": "9b5992cb-d8fa-4b20-bbe0-645380e06de4"
      },
      "outputs": [
        {
          "name": "stdout",
          "output_type": "stream",
          "text": [
            "Original class distribution:\n",
            "EscalaRiesgo\n",
            "C    645\n",
            "B    305\n",
            "A      9\n",
            "Name: count, dtype: int64\n",
            "\n",
            "Balanced class distribution:\n",
            "EscalaRiesgo\n",
            "C    645\n",
            "B    645\n",
            "A    645\n",
            "Name: count, dtype: int64\n"
          ]
        },
        {
          "name": "stderr",
          "output_type": "stream",
          "text": [
            "/usr/local/lib/python3.10/dist-packages/sklearn/linear_model/_sag.py:352: ConvergenceWarning: The max_iter was reached which means the coef_ did not converge\n",
            "  warnings.warn(\n",
            "/usr/local/lib/python3.10/dist-packages/sklearn/linear_model/_sag.py:352: ConvergenceWarning: The max_iter was reached which means the coef_ did not converge\n",
            "  warnings.warn(\n",
            "/usr/local/lib/python3.10/dist-packages/sklearn/linear_model/_sag.py:352: ConvergenceWarning: The max_iter was reached which means the coef_ did not converge\n",
            "  warnings.warn(\n",
            "/usr/local/lib/python3.10/dist-packages/sklearn/linear_model/_sag.py:352: ConvergenceWarning: The max_iter was reached which means the coef_ did not converge\n",
            "  warnings.warn(\n",
            "/usr/local/lib/python3.10/dist-packages/sklearn/linear_model/_sag.py:352: ConvergenceWarning: The max_iter was reached which means the coef_ did not converge\n",
            "  warnings.warn(\n",
            "/usr/local/lib/python3.10/dist-packages/sklearn/linear_model/_sag.py:352: ConvergenceWarning: The max_iter was reached which means the coef_ did not converge\n",
            "  warnings.warn(\n",
            "/usr/local/lib/python3.10/dist-packages/sklearn/linear_model/_sag.py:352: ConvergenceWarning: The max_iter was reached which means the coef_ did not converge\n",
            "  warnings.warn(\n",
            "/usr/local/lib/python3.10/dist-packages/sklearn/linear_model/_sag.py:352: ConvergenceWarning: The max_iter was reached which means the coef_ did not converge\n",
            "  warnings.warn(\n",
            "/usr/local/lib/python3.10/dist-packages/sklearn/linear_model/_sag.py:352: ConvergenceWarning: The max_iter was reached which means the coef_ did not converge\n",
            "  warnings.warn(\n",
            "/usr/local/lib/python3.10/dist-packages/sklearn/linear_model/_sag.py:352: ConvergenceWarning: The max_iter was reached which means the coef_ did not converge\n",
            "  warnings.warn(\n",
            "/usr/local/lib/python3.10/dist-packages/sklearn/linear_model/_sag.py:352: ConvergenceWarning: The max_iter was reached which means the coef_ did not converge\n",
            "  warnings.warn(\n",
            "/usr/local/lib/python3.10/dist-packages/sklearn/linear_model/_sag.py:352: ConvergenceWarning: The max_iter was reached which means the coef_ did not converge\n",
            "  warnings.warn(\n",
            "/usr/local/lib/python3.10/dist-packages/sklearn/linear_model/_sag.py:352: ConvergenceWarning: The max_iter was reached which means the coef_ did not converge\n",
            "  warnings.warn(\n",
            "/usr/local/lib/python3.10/dist-packages/sklearn/linear_model/_sag.py:352: ConvergenceWarning: The max_iter was reached which means the coef_ did not converge\n",
            "  warnings.warn(\n",
            "/usr/local/lib/python3.10/dist-packages/sklearn/linear_model/_sag.py:352: ConvergenceWarning: The max_iter was reached which means the coef_ did not converge\n",
            "  warnings.warn(\n"
          ]
        },
        {
          "name": "stdout",
          "output_type": "stream",
          "text": [
            "                         Model  Accuracy  F1 Score  Training Time (s)\n",
            "0          Logistic Regression  0.963504  0.964074           0.363115\n",
            "1                  Naive Bayes  0.953771  0.962749           0.016687\n",
            "2  Logistic Regression (Tuned)  0.961071  0.961925         110.308201\n",
            "3          Naive Bayes (Tuned)  0.953771  0.962749           0.500227\n"
          ]
        }
      ],
      "source": [
        "train_and_evaluate_algorithms(X, y)\n"
      ]
    },
    {
      "cell_type": "markdown",
      "source": [
        "# Conclusiones"
      ],
      "metadata": {
        "id": "MRYlWDsQVQqR"
      }
    },
    {
      "cell_type": "markdown",
      "source": [
        "\n",
        "Primero se realizó una red neuronal profunda para clasificación multiclase. Se le aplicó un SMOTE para evitar el sobremuestreo. El modelo muestra un rendimiento global muy alto, con excelente precisión, recall y F1 score en la mayoría de las clases. Sin embargo, el bajo número de instancias en la clase 0 afecta negativamente sus métricas.\n",
        "\n",
        "Por lo anterior, se entrenaron seis modelos: Logistic Regression, Decision Tree, Support Vector Classifier, K-Nearest Neighbors, Naive Bayes y Linear Discriminant Analysis.\n",
        "\n",
        "\n",
        "\n",
        "![image.png](data:image/png;base64,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)\n",
        "\n",
        "\n",
        "Como se puede observar de los seis modelos, los que mejor desempeño tuvieron fueron Logistic Regression y Naive Bayes. Estos modelos nuevamente fueron entrenados para ver su rendimiento y los resultados no fueron significativos, veamos cada uno.  \n",
        "\n",
        "Logistic Regression es mejor en Accuracy (0.963504 vs. 0.953771) y F1 Score (0.964074 vs. 0.962749) sobre Naive Bayes, aunqu este último tuvo un menor tiempo de entrenamiento. Es importante resaltar que el tiempo es crucial en escenarios donde el tiempo de entrenamiento es una limitación importante.\n",
        "\n",
        "Con ajuste de parametros Logistic Regression alcanzó un Accuracy de (0.961071) y F1 Score (0.961925) ligeramente menores en comparación con el modelo sin ajustar (0.963504 y 0.964074).\n",
        "\n",
        "En Naive Bayes no hay cambios en Accuracy (0.953771) y F1 Score (0.962749) comparado con el modelo sin ajustar.\n",
        "\n",
        "Por lo que se concluye que en ambos casos los modelos sin ajustar son la mejor opción que realizando el ajuste a los parámetros, como se puede observar a continuación:\n",
        "\n",
        "  Logistic Regression sin ajustar es la mejor opción si se busca el mejor rendimiento predictivo en términos de Accuracy y F1 Score, con un tiempo de entrenamiento razonable (0.363115 s).\n",
        "\n",
        "  Naive Bayes sin ajustar es la mejor opción si el tiempo de entrenamiento es una prioridad, ya que proporciona un rendimiento casi comparable en F1 Score con tiempos de entrenamiento extremadamente bajos (0.016687 s).\n",
        "\n",
        "El ajuste de los modelos no proporcionó mejoreas en términos de rendimiento predictivo y resulta en tiempos de entrenamiento mucho mayores."
      ],
      "metadata": {
        "id": "zzBGo875mKam"
      }
    },
    {
      "cell_type": "markdown",
      "source": [],
      "metadata": {
        "id": "7HzNey1c6OuM"
      }
    }
  ],
  "metadata": {
    "colab": {
      "provenance": [],
      "collapsed_sections": [
        "8JbQ5JB6XJa_"
      ],
      "include_colab_link": true
    },
    "kernelspec": {
      "display_name": "Python 3",
      "name": "python3"
    },
    "language_info": {
      "codemirror_mode": {
        "name": "ipython",
        "version": 3
      },
      "file_extension": ".py",
      "mimetype": "text/x-python",
      "name": "python",
      "nbconvert_exporter": "python",
      "pygments_lexer": "ipython3",
      "version": "3.11.9"
    }
  },
  "nbformat": 4,
  "nbformat_minor": 0
}